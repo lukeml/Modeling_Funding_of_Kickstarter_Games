{
 "cells": [
  {
   "cell_type": "code",
   "execution_count": 1,
   "metadata": {},
   "outputs": [],
   "source": [
    "import numpy as np\n",
    "import pandas as pd\n",
    "\n",
    "import re\n",
    "\n",
    "import matplotlib.pyplot as plt\n",
    "import seaborn as sns\n",
    "%matplotlib inline\n",
    "\n",
    "from bs4 import BeautifulSoup\n",
    "import requests\n",
    "\n",
    "import time, os\n",
    "\n",
    "from selenium import webdriver\n",
    "from selenium.webdriver.common.keys import Keys\n",
    "from selenium.webdriver.chrome.options import Options\n",
    "\n",
    "from fake_useragent import UserAgent\n",
    "\n",
    "import json"
   ]
  },
  {
   "cell_type": "code",
   "execution_count": 2,
   "metadata": {},
   "outputs": [],
   "source": [
    "# Use random user agent just in case the site checks for too many requests from a specific user agent\n",
    "\n",
    "ua = UserAgent()\n",
    "user_agent = {'User-agent': ua.random}"
   ]
  },
  {
   "cell_type": "markdown",
   "metadata": {},
   "source": [
    "Considered using \"headless\" Chrome, but I ended up not doing a lot of additional scraping."
   ]
  },
  {
   "cell_type": "code",
   "execution_count": 3,
   "metadata": {},
   "outputs": [],
   "source": [
    "# instantiate a chrome options object so you can set the size and headless preference\n",
    "\n",
    "chrome_options = Options()\n",
    "chrome_options.add_argument(f'user-agent={user_agent}')\n",
    "\n",
    "# chrome_options.add_argument(\"--headless\")\n",
    "# chrome_options.add_argument(\"--window-size=1920x1080\")"
   ]
  },
  {
   "cell_type": "code",
   "execution_count": 4,
   "metadata": {},
   "outputs": [],
   "source": [
    "chromedriver = \"C:\\Program Files (x86)\\Google\\Chrome\\Application\\chromedriver.exe\" # path to the chromedriver executable\n",
    "os.environ[\"webdriver.chrome.driver\"] = chromedriver"
   ]
  },
  {
   "cell_type": "markdown",
   "metadata": {},
   "source": [
    "Below are a few different selections from the search feature for Kickstarter. \n",
    "Because of the way Kickstarter removes unsuccessful projects from their search, I ended up just using only projects that were already funded, i.e. met 100% of their funding goal (url_100)."
   ]
  },
  {
   "cell_type": "code",
   "execution_count": 9,
   "metadata": {},
   "outputs": [],
   "source": [
    "url_75 = 'https://www.kickstarter.com/discover/advanced?category_id=34&raised=0&sort=newest&seed=2644681&page={}'\n",
    "url_75_100 = 'https://www.kickstarter.com/discover/advanced?category_id=34&raised=1&sort=newest&seed=2644681&page={}'\n",
    "url_100 = 'https://www.kickstarter.com/discover/advanced?category_id=34&raised=2&sort=newest&seed=2644681&page={}'"
   ]
  },
  {
   "cell_type": "markdown",
   "metadata": {},
   "source": [
    "Below is the function I ended up using to scrape data. I wrote another function that I thought I might use to grab project data from individual pages (as opposed to the main search page), but I ended up not using any other data."
   ]
  },
  {
   "cell_type": "code",
   "execution_count": 5,
   "metadata": {},
   "outputs": [],
   "source": [
    "def get_data(start_url):\n",
    "    \n",
    "    \"\"\"\n",
    "    Takes a kickstarter search page URL with page={} at the end\n",
    "    and scrapes basic searched project data returning it as a dataframe.\n",
    "    \n",
    "    ---\n",
    "    Input: kickstarter search page URL with page={} at the end\n",
    "    Output: dataframe of scraped searched project data\n",
    "    \n",
    "    \"\"\"\n",
    "    \n",
    "    page_number = 1\n",
    "    all_data = []\n",
    "\n",
    "    while True:\n",
    "        url = start_url.format(page_number)\n",
    "        response  = requests.get(url, headers = user_agent)\n",
    "        page = response.text\n",
    "        soup = BeautifulSoup(page, \"lxml\")\n",
    "        project_divs = soup.findAll('div', {\"class\":\"js-react-proj-card\"})\n",
    "\n",
    "        if len(project_divs) == 0:\n",
    "            break\n",
    "\n",
    "        for div in project_divs:\n",
    "            all_data.append(json.loads(div['data-project']))\n",
    "\n",
    "        page_number +=1\n",
    "        time.sleep(1)\n",
    "        \n",
    "        ###############\n",
    "        ### For Testing\n",
    "#         if page_number > 3:\n",
    "#             break\n",
    "        ###############\n",
    "    \n",
    "    return pd.DataFrame(all_data)"
   ]
  },
  {
   "cell_type": "markdown",
   "metadata": {},
   "source": [
    "df_100 ended up being the dataframe I used for my project. "
   ]
  },
  {
   "cell_type": "code",
   "execution_count": null,
   "metadata": {},
   "outputs": [],
   "source": [
    "# df_75 = get_data(url_75)\n",
    "# df_75_100 = get_data(url_75_100)\n",
    "df_100 = get_data(url_100)"
   ]
  },
  {
   "cell_type": "markdown",
   "metadata": {},
   "source": [
    "I did a little exploration of the data to see how df_100 was formatted. \n",
    "Specifically, I spent some trying trying to figure out how to access the URLs for each project."
   ]
  },
  {
   "cell_type": "code",
   "execution_count": 36,
   "metadata": {},
   "outputs": [
    {
     "data": {
      "text/plain": [
       "Unnamed: 0                                                                  0\n",
       "id                                                                  746380653\n",
       "photo                       {'key': 'assets/028/357/363/2327d019e352f0dcb1...\n",
       "friends                                                                    []\n",
       "is_starred                                                              False\n",
       "is_backing                                                              False\n",
       "permissions                                                                []\n",
       "urls                        {'api': {'star': 'https://api.kickstarter.com/...\n",
       "name                                              Kovaud's Adventurer's Guide\n",
       "blurb                       A 5th edition supplement crammed full of tons ...\n",
       "goal                                                                     5000\n",
       "pledged                                                                    26\n",
       "state                                                                    live\n",
       "slug                                                kovauds-adventurers-guide\n",
       "disable_communication                                                   False\n",
       "country                                                                    US\n",
       "country_displayable_name                                    the United States\n",
       "currency                                                                  USD\n",
       "currency_symbol                                                             $\n",
       "currency_trailing_code                                                   True\n",
       "deadline                                                           1589773960\n",
       "state_changed_at                                                   1586749960\n",
       "created_at                                                         1583423913\n",
       "launched_at                                                        1586749960\n",
       "staff_pick                                                              False\n",
       "is_starrable                                                             True\n",
       "backers_count                                                               2\n",
       "static_usd_rate                                                             1\n",
       "usd_pledged                                                                26\n",
       "converted_pledged_amount                                                   26\n",
       "fx_rate                                                                     1\n",
       "current_currency                                                          USD\n",
       "usd_type                                                        international\n",
       "creator                     {'id': 1921569748, 'name': 'Christopher Brown'...\n",
       "location                    {'id': 2400767, 'name': 'Evansville', 'slug': ...\n",
       "category                    {'id': 34, 'name': 'Tabletop Games', 'slug': '...\n",
       "profile                     {'id': 3947508, 'project_id': 3947508, 'state'...\n",
       "spotlight                                                               False\n",
       "percent_funded                                                           0.52\n",
       "is_liked                                                                False\n",
       "is_disliked                                                             False\n",
       "Name: 0, dtype: object"
      ]
     },
     "execution_count": 36,
     "metadata": {},
     "output_type": "execute_result"
    }
   ],
   "source": [
    "df_100.iloc[0]"
   ]
  },
  {
   "cell_type": "code",
   "execution_count": 190,
   "metadata": {
    "scrolled": false
   },
   "outputs": [
    {
     "name": "stdout",
     "output_type": "stream",
     "text": [
      "<class 'pandas.core.frame.DataFrame'>\n",
      "RangeIndex: 984 entries, 0 to 983\n",
      "Data columns (total 41 columns):\n",
      "Unnamed: 0                  984 non-null int64\n",
      "id                          984 non-null int64\n",
      "photo                       984 non-null object\n",
      "friends                     12 non-null object\n",
      "is_starred                  12 non-null object\n",
      "is_backing                  12 non-null object\n",
      "permissions                 12 non-null object\n",
      "urls                        984 non-null object\n",
      "name                        984 non-null object\n",
      "blurb                       984 non-null object\n",
      "goal                        984 non-null float64\n",
      "pledged                     984 non-null float64\n",
      "state                       984 non-null object\n",
      "slug                        984 non-null object\n",
      "disable_communication       984 non-null bool\n",
      "country                     984 non-null object\n",
      "country_displayable_name    984 non-null object\n",
      "currency                    984 non-null object\n",
      "currency_symbol             984 non-null object\n",
      "currency_trailing_code      984 non-null bool\n",
      "deadline                    984 non-null int64\n",
      "state_changed_at            984 non-null int64\n",
      "created_at                  984 non-null int64\n",
      "launched_at                 984 non-null int64\n",
      "staff_pick                  984 non-null bool\n",
      "is_starrable                984 non-null bool\n",
      "backers_count               984 non-null int64\n",
      "static_usd_rate             984 non-null float64\n",
      "usd_pledged                 984 non-null float64\n",
      "converted_pledged_amount    984 non-null int64\n",
      "fx_rate                     984 non-null float64\n",
      "current_currency            984 non-null object\n",
      "usd_type                    984 non-null object\n",
      "creator                     984 non-null object\n",
      "location                    984 non-null object\n",
      "category                    984 non-null object\n",
      "profile                     984 non-null object\n",
      "spotlight                   984 non-null bool\n",
      "percent_funded              984 non-null float64\n",
      "is_liked                    984 non-null bool\n",
      "is_disliked                 984 non-null bool\n",
      "dtypes: bool(7), float64(6), int64(8), object(20)\n",
      "memory usage: 268.2+ KB\n"
     ]
    }
   ],
   "source": [
    "df_100.info()"
   ]
  },
  {
   "cell_type": "markdown",
   "metadata": {},
   "source": [
    "I spent some time trying to see if there was anything useful I could get for certain columns. For the most part, I decided there wasn't much I could use."
   ]
  },
  {
   "cell_type": "code",
   "execution_count": 212,
   "metadata": {},
   "outputs": [
    {
     "data": {
      "text/plain": [
       "\"{'id': 434622949, 'name': 'Nicholas Robinson', 'is_registered': None, 'chosen_currency': None, 'is_superbacker': None, 'avatar': {'thumb': 'https://ksr-ugc.imgix.net/assets/010/171/887/f995aa41058bdeb531d5e5c2bf482ab0_original.jpg?ixlib=rb-2.1.0&w=40&h=40&fit=crop&v=1461671654&auto=format&frame=1&q=92&s=dbde0db035d4504db5ad0c618a4fcce6', 'small': 'https://ksr-ugc.imgix.net/assets/010/171/887/f995aa41058bdeb531d5e5c2bf482ab0_original.jpg?ixlib=rb-2.1.0&w=160&h=160&fit=crop&v=1461671654&auto=format&frame=1&q=92&s=b7df291009755065d40a55b2026475c1', 'medium': 'https://ksr-ugc.imgix.net/assets/010/171/887/f995aa41058bdeb531d5e5c2bf482ab0_original.jpg?ixlib=rb-2.1.0&w=160&h=160&fit=crop&v=1461671654&auto=format&frame=1&q=92&s=b7df291009755065d40a55b2026475c1'}, 'urls': {'web': {'user': 'https://www.kickstarter.com/profile/434622949'}, 'api': {'user': 'https://api.kickstarter.com/v1/users/434622949?signature=1586842536.fd2344efac60f4831c05bbf1e66a0574b587d4b3'}}}\""
      ]
     },
     "execution_count": 212,
     "metadata": {},
     "output_type": "execute_result"
    }
   ],
   "source": [
    "df_100.iloc[1]['creator']"
   ]
  },
  {
   "cell_type": "code",
   "execution_count": 214,
   "metadata": {},
   "outputs": [
    {
     "data": {
      "text/plain": [
       "\"{'id': 34, 'name': 'Tabletop Games', 'slug': 'games/tabletop games', 'position': 6, 'parent_id': 12, 'parent_name': 'Games', 'color': 51627, 'urls': {'web': {'discover': 'http://www.kickstarter.com/discover/categories/games/tabletop%20games'}}}\""
      ]
     },
     "execution_count": 214,
     "metadata": {},
     "output_type": "execute_result"
    }
   ],
   "source": [
    " df_100.iloc[1]['category']"
   ]
  },
  {
   "cell_type": "code",
   "execution_count": 215,
   "metadata": {},
   "outputs": [
    {
     "data": {
      "text/plain": [
       "\"{'id': 3962348, 'project_id': 3962348, 'state': 'inactive', 'state_changed_at': 1585510981, 'name': None, 'blurb': None, 'background_color': None, 'text_color': None, 'link_background_color': None, 'link_text_color': None, 'link_text': None, 'link_url': None, 'show_feature_image': False, 'background_image_opacity': 0.8, 'should_show_feature_image_section': True, 'feature_image_attributes': {'image_urls': {'default': 'https://ksr-ugc.imgix.net/assets/028/705/669/4a448eef23613e5ea03361ef9463cee5_original.jpg?ixlib=rb-2.1.0&crop=faces&w=1552&h=873&fit=crop&v=1586709264&auto=format&frame=1&q=92&s=6f0d15af26e5cb15995d0733fdcfc793', 'baseball_card': 'https://ksr-ugc.imgix.net/assets/028/705/669/4a448eef23613e5ea03361ef9463cee5_original.jpg?ixlib=rb-2.1.0&crop=faces&w=560&h=315&fit=crop&v=1586709264&auto=format&frame=1&q=92&s=e152badc4c29298cfd161157051fc28b'}}}\""
      ]
     },
     "execution_count": 215,
     "metadata": {},
     "output_type": "execute_result"
    }
   ],
   "source": [
    "df_100.iloc[1]['profile']"
   ]
  },
  {
   "cell_type": "markdown",
   "metadata": {},
   "source": [
    "Below, I was looking at the URLs that I mentioned earlier."
   ]
  },
  {
   "cell_type": "code",
   "execution_count": 31,
   "metadata": {
    "scrolled": true
   },
   "outputs": [],
   "source": [
    "test_urls = df_100['urls'][0]"
   ]
  },
  {
   "cell_type": "code",
   "execution_count": 41,
   "metadata": {
    "scrolled": true
   },
   "outputs": [
    {
     "data": {
      "text/plain": [
       "'https://www.kickstarter.com/projects/kovaud/kovauds-adventurers-guide'"
      ]
     },
     "execution_count": 41,
     "metadata": {},
     "output_type": "execute_result"
    }
   ],
   "source": [
    "test_urls.split(\"'\")[-6]"
   ]
  },
  {
   "cell_type": "code",
   "execution_count": null,
   "metadata": {},
   "outputs": [],
   "source": [
    "test_df = df_100[:3]"
   ]
  },
  {
   "cell_type": "code",
   "execution_count": 52,
   "metadata": {},
   "outputs": [],
   "source": [
    "url_strings = test_df['urls']"
   ]
  },
  {
   "cell_type": "code",
   "execution_count": 53,
   "metadata": {},
   "outputs": [
    {
     "data": {
      "text/plain": [
       "pandas.core.series.Series"
      ]
     },
     "execution_count": 53,
     "metadata": {},
     "output_type": "execute_result"
    }
   ],
   "source": [
    "type(url_strings)"
   ]
  },
  {
   "cell_type": "code",
   "execution_count": 54,
   "metadata": {
    "scrolled": true
   },
   "outputs": [
    {
     "data": {
      "text/plain": [
       "\"{'api': {'star': 'https://api.kickstarter.com/v1/projects/746380653/star?signature=1586842536.b729e047bd273121a62be9473a19de5ecbdf423c', 'message_creator': 'https://api.kickstarter.com/v1/projects/746380653/messages?signature=1586842536.91165ed798048713a57378af5b9d03d2084bfd4e'}, 'web': {'message_creator': 'https://www.kickstarter.com/projects/kovaud/kovauds-adventurers-guide/messages/new?message%5Bto%5D=kovaud', 'project': 'https://www.kickstarter.com/projects/kovaud/kovauds-adventurers-guide', 'rewards': 'https://www.kickstarter.com/projects/kovaud/kovauds-adventurers-guide/rewards'}}\""
      ]
     },
     "execution_count": 54,
     "metadata": {},
     "output_type": "execute_result"
    }
   ],
   "source": [
    "url_strings[0]"
   ]
  },
  {
   "cell_type": "markdown",
   "metadata": {},
   "source": [
    "I didn't end up using this function. I decided it would be better to just pass the entire dataframe to the get_project_data function a few cells below."
   ]
  },
  {
   "cell_type": "code",
   "execution_count": 57,
   "metadata": {},
   "outputs": [],
   "source": [
    "def get_project_urls(my_df):\n",
    "    \n",
    "    \"\"\"\n",
    "    Retrieves URLs from dataframe created by get_data function which scraped data from Kickstarter\n",
    "    \n",
    "    Input: dataframe in the form generated by get_data\n",
    "    Output: list of URLs as strings for individual kickstarter project pages\n",
    "    \"\"\"\n",
    "    my_urls = []\n",
    "    \n",
    "    url_strings = my_df['urls']\n",
    "    \n",
    "    for row in url_strings:\n",
    "        my_urls.append(row.split(\"'\")[-6])\n",
    "\n",
    "    return my_urls"
   ]
  },
  {
   "cell_type": "code",
   "execution_count": 74,
   "metadata": {},
   "outputs": [
    {
     "data": {
      "text/plain": [
       "['https://www.kickstarter.com/projects/kovaud/kovauds-adventurers-guide',\n",
       " 'https://www.kickstarter.com/projects/434622949/the-twilight-dream-a-5th-edition-setting',\n",
       " 'https://www.kickstarter.com/projects/badgersfrommars/regicide']"
      ]
     },
     "execution_count": 74,
     "metadata": {},
     "output_type": "execute_result"
    }
   ],
   "source": [
    "get_project_urls(test_df)"
   ]
  },
  {
   "cell_type": "code",
   "execution_count": null,
   "metadata": {},
   "outputs": [],
   "source": []
  },
  {
   "cell_type": "code",
   "execution_count": null,
   "metadata": {},
   "outputs": [],
   "source": [
    "project_url = 'https://www.kickstarter.com/projects/frosthaven'"
   ]
  },
  {
   "cell_type": "markdown",
   "metadata": {},
   "source": [
    "I went thru many iterations of the function below. Sadly, I didn't end up using it (or the next iteration). This one had some issues that I solved in the next iteration. \n"
   ]
  },
  {
   "cell_type": "code",
   "execution_count": 7,
   "metadata": {},
   "outputs": [],
   "source": [
    "def get_project_data(my_df):\n",
    "    \n",
    "    \"\"\"\n",
    "    Attempts to return text from each project URL that is in the input dataframe. \n",
    "    \n",
    "    Input: dataframe in the form generated by get_data\n",
    "    Output: List of text for each project in the dataframe\n",
    "    \n",
    "    \"\"\"\n",
    "    \n",
    "    \n",
    "    chromedriver = \"C:\\Program Files (x86)\\Google\\Chrome\\Application\\chromedriver.exe\" # path to the chromedriver executable\n",
    "    os.environ[\"webdriver.chrome.driver\"] = chromedriver\n",
    "    driver = webdriver.Chrome(options=chrome_options, executable_path=chromedriver)\n",
    "    \n",
    "    \n",
    "    my_urls = []\n",
    "    \n",
    "    print(my_df['urls'])\n",
    "    \n",
    "    url_strings = my_df['urls']\n",
    "    \n",
    "    for row in url_strings:\n",
    "#         print(row)\n",
    "#         print('\\n')\n",
    "        regexp = re.compile(\"'project': (.*),\")\n",
    "        my_urls.append(regexp.search(row).group(1).replace(\"'\",\"\"))\n",
    "        \n",
    "#         my_urls.append(row.split(\"'\")[-6])\n",
    "\n",
    "    print(my_urls)\n",
    "    print('\\n')\n",
    "        \n",
    "        \n",
    "    \n",
    "    all_text = []\n",
    "    \n",
    "        \n",
    "    for url in my_urls:\n",
    "        print(url)\n",
    "        print('\\n')\n",
    "        driver.get(url)\n",
    "        \n",
    "        print('\\n')\n",
    "        \n",
    "#         new_soup = BeautifulSoup(driver.page_source, 'lxml')\n",
    "        \n",
    "        # Get Text\n",
    "#         all_text_divs = new_soup.findAll('div', class_ = \"rte__content\")\n",
    "        print(driver.find_element_by_xpath('//*[@id=\"react-campaign\"]'))\n",
    "        all_text.append(driver.find_element_by_xpath('//*[@id=\"react-campaign\"]').text)\n",
    "        print(all_text)\n",
    "        print('\\n')\n",
    "        \n",
    "#         print(all_text_divs)\n",
    "#         for item in all_text_divs:\n",
    "#             for paragraph in item.findAll('p'):\n",
    "#                 all_text = all_text + paragraph.text\n",
    "                \n",
    "#         time.sleep(1)\n",
    "                \n",
    "    driver.close()\n",
    "        \n",
    "    return # all_text"
   ]
  },
  {
   "cell_type": "code",
   "execution_count": null,
   "metadata": {},
   "outputs": [],
   "source": []
  },
  {
   "cell_type": "code",
   "execution_count": 169,
   "metadata": {},
   "outputs": [],
   "source": [
    "chromedriver = \"C:\\Program Files (x86)\\Google\\Chrome\\Application\\chromedriver.exe\" # path to the chromedriver executable\n",
    "os.environ[\"webdriver.chrome.driver\"] = chromedriver\n",
    "# driver = webdriver.Chrome(options=chrome_options, executable_path=chromedriver)\n"
   ]
  },
  {
   "cell_type": "code",
   "execution_count": 187,
   "metadata": {},
   "outputs": [],
   "source": [
    "def get_project_data_2(my_df):\n",
    "    \n",
    "    \"\"\"\n",
    "    Attempts to return text from each project URL that is in the input dataframe. \n",
    "    \n",
    "    Input: dataframe in the form generated by get_data\n",
    "    Output: List of text for each project in the dataframe\n",
    "    \n",
    "    \"\"\"\n",
    "    my_urls = []\n",
    "    \n",
    "#     print(my_df['urls'])\n",
    "    \n",
    "    url_strings = my_df['urls']\n",
    "    \n",
    "    for row in url_strings:\n",
    "#         print(row)\n",
    "#         print('\\n')\n",
    "        regexp = re.compile(\"'project': (.*),\")\n",
    "        my_urls.append(regexp.search(row).group(1).replace(\"'\",\"\"))\n",
    "        \n",
    "\n",
    "    print(my_urls)\n",
    "    print('\\n')\n",
    "        \n",
    "        \n",
    "    \n",
    "    all_text = []\n",
    "    driver = webdriver.Chrome(chromedriver)\n",
    "    \n",
    "        \n",
    "    for url in my_urls:\n",
    "        print(url)\n",
    "        print('\\n')\n",
    "        driver.get(url)\n",
    "        time.sleep(2)\n",
    "        \n",
    "        print('\\n')\n",
    "        \n",
    "        \n",
    "        # Get Text\n",
    "\n",
    "        print(driver.find_element_by_xpath('//*[@id=\"react-campaign\"]'))\n",
    "        print(driver.find_element_by_xpath('//*[@id=\"react-campaign\"]').text)\n",
    "#         print(all_text)\n",
    "        print('\\n')\n",
    "        \n",
    "               \n",
    "    driver.close()\n",
    "        \n",
    "    return # all_text"
   ]
  },
  {
   "cell_type": "code",
   "execution_count": 188,
   "metadata": {},
   "outputs": [
    {
     "name": "stdout",
     "output_type": "stream",
     "text": [
      "['https://www.kickstarter.com/projects/kovaud/kovauds-adventurers-guide', 'https://www.kickstarter.com/projects/434622949/the-twilight-dream-a-5th-edition-setting', 'https://www.kickstarter.com/projects/badgersfrommars/regicide']\n",
      "\n",
      "\n",
      "https://www.kickstarter.com/projects/kovaud/kovauds-adventurers-guide\n",
      "\n",
      "\n",
      "\n",
      "\n",
      "<selenium.webdriver.remote.webelement.WebElement (session=\"2f9262c355e2cb11002f9e4dbeddeea0\", element=\"10fb854a-a037-4ee0-9f2c-6c308b9a4728\")>\n",
      "Story\n",
      "For the past two years I have been consistently creating quality content for 5th edition Dungeons and Dragons on a weekly basis and decided to finally begin my first large scale project compiling all my work and content into a bright and fancy book. Full of new art, content, and writing! \n",
      "The goal for this Kickstarter is to raise funds for artwork for a high quality pdf.\n",
      "Fairly simple I'd say! However their will be other smaller goals that will garner more rewards for backers! \n",
      "The stretch goal is $12,000, and if that stretch goal is met then I will do a run for physical copies.\n",
      "The book will contain tons of new content for players to use while making characters!\n",
      "With 6 new classes,  new races, new subraces, over 100 new subclasses, new backgrounds, new spells, invocations, and much more that a player might need!\n",
      "The new classes are:\n",
      "Dragonsoul - A warrior that has a spark of draconic energy within themselves and utilize it for great deeds.\n",
      "Hexweaver - A spellcaster who through study of the occult has mastered hexes.\n",
      "Keeper - A wielder of a magical artifact they are bound to that grants them power.\n",
      "Merchant - A silvertongued salesperson who seeks to peddle their wares and services.\n",
      "Overlord - A former dungeon dweller who has a crew of minions at their command.\n",
      "Runecaster - A scholar who dedicates themselves to the mastering the power of the runes.\n",
      "Here is a list of all the subclasses included in this project:\n",
      "Barbarian: Path of the Blade, Path of Draconic Fury, Path of the Raging Fist, Path of Symbiosis, Path of the Goodberry, Path of the Hellrager, Path of the Mountain, Path of the Kaiju.\n",
      "Bard: College of Advertising, College of the Goodberry, College of the Hunting Horn, College of War, College of the Choragus.\n",
      "Cleric: Goodberry Domain, Hell Domain, Sound Domain, Titan Domain, Oracle Domain.\n",
      "Druid: Circle of Agriculture, Circle of Blood, Circle of the Brew, Circle of the Goodberry, Circle of Gravity, Circle of Winter, Circle of Summer, Circle of Spring, Circle of Autumn, Circle of Revelry, Circle of Sin, Circle of Plagues.\n",
      "Fighter: Ember Knight, Infernal Knight, Goodberry Conqueror, Viking, Hunter, The Myth, Lord of Thunder, Fisherman, Pactsworn, Neon Samurai, Ring Lord.\n",
      "Monk: Way of the Fist, Way of Justice, Way of the Goodberry, Way of the Wolverine.\n",
      "Paladin: Oath of the Goodberry, Oath of Divinity, Oath of the Flame, Oath of the Prism, Oath of the Valkyrie.\n",
      "Ranger: Ashen Archer, Unity Conclave, Goodberry Conclave, Orion's Bow, Stygian Conclave.\n",
      "Rogue: Bushmaster, Financier, Wraith Detective.\n",
      "Sorcerer: Atlantean Royalty, Goodberry Soul, Kaiju Bloodline, Steel Soul.\n",
      "Warlock: The Cosmic Gems, The Great Goodberry, The Eldritch Might, The Eternal Flame, The Shattered Realm, The King of the Monsters, The Archmage Council, The Titan, The Weapon of Power, The Purple Worm, The One Below, The Vampire Lord.\n",
      "Wizard: School of the Goodberry, School of Glitches, School of Remedies, The Study of the Shattered Realms.\n",
      "A section filled with all sorts of Spells for all manner of spellcaster, and a section of Pact Boons and Eldritch Invocations for all your warlock needs!\n",
      "Risks and challenges\n",
      "Since I am a single person working on a project usually undertaken by a whole team of people, it may seem like I'm biting off more than I can chew. However, I will seek out help and assistance from others for this project.\n",
      "Learn about accountability on Kickstarter\n",
      "Questions about this project? Check out the FAQ\n",
      "Report this project to Kickstarter\n",
      "\n",
      "\n",
      "https://www.kickstarter.com/projects/434622949/the-twilight-dream-a-5th-edition-setting\n",
      "\n",
      "\n",
      "\n",
      "\n",
      "<selenium.webdriver.remote.webelement.WebElement (session=\"2f9262c355e2cb11002f9e4dbeddeea0\", element=\"02810d3a-65b7-46dd-9221-fc1600023df3\")>\n",
      "Story\n",
      "The Twilight Dream is a 100+ page original campaign setting and adventure guide for fifth edition Dungeons & Dragons.  This illustrated PDF takes players on an epic adventure inspired by the rich fantasies of the British Isles.  You play as a group of high school students at Camelot University who, after discovering their extraordinary magical powers, are thrust headfirst into a battle to save two worlds from the mad ambitions of the Night King.  The Twilight Dream is a secret world of magic and monsters, sky islands and scheming elven queens.  Europa meanwhile is a land in the midst of great change as new technologies rapidly transform life for her people.  Railways, ice cream, electricity and motion pictures exist side-by-side with kings and castles.  It is an exciting time, full of interesting characters and new opportunities, and most of all – adventure!\n",
      "The world of The Twilight Dream was inspired by the rich stories of Gaelic, Celtic and Brythonic folklore and mythology.  It also borrows from Norse, north German, and later Christian traditions.  The story is set in a time period roughly equivalent to the late American Wild West, a time of great societal change as technology brought humanity into the modern era.  It was my intention when making this setting to capture the spirit of the source material in a way that was respectful to the original cultures and traditions, while not being strictly defined by their history.  Lovers of history and mythology will find many nods to familiar characters and stories reimagined for our fantastical world.\n",
      "By supporting our campaign on Kickstarter, you are helping us to bring this world to life through artwork created by our team.  Campaign funding goes to the art budget for the book, and the more available funding we have, the more wonderful artwork our team can can create for the book.\n",
      "This book features original artwork, new classes, backgrounds, magic items, spells, sinister villains, monsters and more.  Join us on our adventure in The Twilight Dream!\n",
      "Cover art by Przemyslaw Gul. The Night King and his minions menace our heroes.\n",
      "A World of Mystery and Adventure\n",
      "A magical barrier known as the veil separates the dreaming world from the waking world. Creatures can step between worlds by walking through magical reflective surfaces like enchanted mirrors, waterfalls, or giant cut agates. Most of these gateways only work during twilight hours. The Fey are spirits from the dreaming world that take physical form when they cross the veil, usually as young women. They find physical existence alien and often frightening but exhilarating. They are drawn to feed on the dreams, desires and emotions of creatures in the waking world. Most spirits do not willingly cause harm because they do not understand the consequences of their actions or the concept of good and evil. Other creatures cross the veil to cause mischief and harm.\n",
      "Several secret societies exist in the waking world to monitor visitors from the dream, destroy harmful creatures, and maintain the dream’s hidden existence. The Vanguard is one such organization. The Vanguard built the Sanctum where the players first discovered their powers. The knights of the Vanguard were formerly the greatest protectors of both worlds until the order fell into ruin 200 years ago. The Vanguard today is on the brink of collapse, its knights disillusioned with their goal, their ancient fortresses crumbling and looted by the malevolent elves of the Unseelie Court.\n",
      "The Vanguard formed long ago to combat the black mist, Miasma, which reaches out to consume the Twilight Dream. Miasma is a primordial mindless force of darkness, destruction and decay. Every few centuries its power surges and the Vanguard calls upon heroes to complete a series of trials to push it back. But 200 years ago their heroes failed, as they have every time since, and every time the Miasma has grown stronger. The darkness has found a champion in the Night King, a devilishly handsome man who possesses terrifying power. Creatures of the Twilight Dream live in fear of the baleful gaze of his one open eye. His generals rule large swathes of the dream poisoned by Miasma.\n",
      "It is up to our heroes to restore the fallen Vanguard, unravel the mysteries of the past, and overcome the threats to both worlds.\n",
      "By Lucjan Pakulski. The mischievous boggart is one of many types of trolls you will meet in the dreaming world. They can eat almost anything. They especially like the taste of shiny things, like beetles or silverware.\n",
      "Product Features\n",
      "The adventure takes place over the course of several school years.  To cover this vast amount of time, the school year is broken up into calendar weeks and weekends.  During the week characters attend class, study, train their skills, socialize and take part in other activities as normal high school students.  During the weekends they have free time to visit town, rest and recover, find employment, go out with friends, and travel to the dreaming world.  They could always sneak out and leave school grounds to visit the dreaming world during the week, too, but they should be prepared to face the consequences if they are caught.  The world changes as the seasons come and go, bringing new opportunities and new perils.  The Gloaming Court does not sit idle.  The villain's schemes advance every week until they are ready to be unleashed upon the heroes.  It is up to you to balance your studies, social life, and adventures.\n",
      "The Twilight Dream uses a brand new system for casting spells.  Spell Slots represent a character’s reserves of magical power used to cast arcane and martial spells.  Arcane Spells are sorceries that manipulate the fabric of reality.  Martial Spells raise the caster's physical abilities to superhuman levels.  Every character has a limited number of spells they can cast each day before they must rest to regain their power.  Furthermore, the all new spells in this book can be cast at any level.  Casting a spell at a higher level increases its effectiveness and allows the caster to add one spell improvement per level above first.  Spell improvements are unique to each spell, offering tons of options for players to customize their magic.  A fireball at first level may be a simple fiery explosion, but at third level you can turn it into twin magma fireball that leaves behind two pools of burning magma!\n",
      "Adventures in the dreaming world are not only harrowing but exhausting.  Your heroes will often find they need to rest while their enemies grow stronger.  Thankfully you are not fighting alone.  In this setting each player controls two or more characters that they can switch between to form squads.  A squad is a team of heroes that set out together on an adventure, but it is only part of the larger group.  The characters meet up at the Sanctum that serves as their hidden home base where they can equip their gear and gather information from the Sanctum Keeper, Morrigan.  She is a constant ally to the players who provides what aid she can, such as casting ritual spells and opening the portal for them to enter the dreaming world.  The players can improve the Sanctum and strengthen Morrigan's powers by recovering rare and powerful artifacts.  In time the players' small party can potentially grow to include many characters and NPCs as they restore the Vanguard to its former glory.\n",
      "By Shelby Mock. The Night Angel is one sub-class for the new Starlight Guardian class. Their signature class feature allows these young women to transform into celestial heroes.\n",
      "Rules Changes and New Races\n",
      "This book uses the D20 rules system of fifth edition Dungeons & Dragons with some changes made to the core system to better suit the fantasy.\n",
      "Health and damage growth for players and monsters have been reduced to increase the lethality of combat and create more tense encounters.  This also decreases the raw stat gap between characters of all levels.  Almost all abilities can be taken at any time, growing in power automatically as the character gains levels in their class, which also decreases the mechanical gap between characters of any given level.  This empowers players to do cool bespoke things with their characters.  It is highly recommended that DMs running games in this setting use accelerated growth for player levels.\n",
      "Normal rolls of the six-sided (d6) and eight-sided (d8) dice follow a special rule to produce superior results; rolls of 1-3 on the d6 are treated as though you rolled a 3, and rolls of 1-4 on the d8 are treated as though you rolled a 4.\n",
      "Long rests no longer restore spent Hit Dice.  Characters must spend a full weekend resting to fully recover their Hit Dice and spell slots.  This encourages players to switch characters going on adventures or to increase tension as they push for a time-sensitive objective with a wounded hero.\n",
      "The standard races have been replaced by tribes that function similarly.  Other D&D race options are permissible within this setting as rare members of the \"lost tribes,\" at your DM's discretion.\n",
      "The people of Europa belong to a unique offshoot of humanity known as the Firbolg. Children look very different from the adults, even their own parents, due to a transformation their people undergo during puberty. Children are born with large eyes and slightly pointed ears – some rare individuals have tails. Young people begin to develop the characteristics of adult Firbolgs at the age of eleven to thirteen. This transformation is radically different for each individual. Adult Firbolgs belong to one of four tribes based on their mature features: dracaryn, dwarf, goblin, and human. All tribes except the humans have sub-tribes with additional characteristics.\n",
      "By Przemyslaw Gul. A goblin girl daydreams about adventure in class. She is a brightwood goblin, one of the new sub-races.\n",
      "This book includes: \n",
      "How to play and run a game set in The Twilight Dream\n",
      "Detailed place guide to the World of Dreams with adventure hooks and random encounter tables\n",
      "Detailed place guide to the Waking World with adventure hooks and random encounter tables\n",
      "New character creation options including classes, races, backgrounds, feats and spells\n",
      "Adventuring in both worlds, your role within the setting, playing as different groups (squads) of heroes, and creating new adventures\n",
      "Using and upgrading the Sanctum that serves as your base of operations\n",
      "Restoring the Vanguard and leading the fight against the Night King\n",
      "Calendar events (weekly actions), going to school, roles after graduation, and advancing enemy schemes\n",
      "New items, magic items, and other treasure\n",
      "Factions and organizations, gaining and using renown, new rules for contacts, and how to create a nemesis\n",
      "New monsters\n",
      "Dedicated chapter to the Night King and his evil followers\n",
      "Short introductory adventure for 4-6 players of 1st level\n",
      "Alternate rules for contacts and renown, downtime activities, exhaustion, extreme terrain, flanking, and skill training\n",
      "By Kelsey Walker. The Astromancer class draws their cosmic power from the mysteries of the stars. Their signature class feature creates a telepathic bond between them and a target ally.\n",
      "Meet Our Team\n",
      "Writing, design and formatting by Nicholas Robinson.\n",
      "Cover art by Przemyslaw Gul.   Interior art by Arem Pak, Kelsey Walker, Lucjan Pakulski, Przemyslaw Gul, and Shelby Mock.\n",
      "By Przemyslaw Gul. Queen Titania of the Seelie Court holds council with a fairy. Titania's palace of Sunhome stands in the sun-drenched canopy of the great tree city, Yggdrasil.\n",
      "Player Preview\n",
      "Try the game!  These links will take you to our Google Drive where players and DMs will find everything they need to start an adventure in the Twilight Dream and play up to third level.  You can download the files or open them in your browser.  If you have fun, consider supporting our campaign!\n",
      "Game Preview\n",
      " https://drive.google.com/file/d/1v_ymx-gQwCwqw25G46FBMQkhSZBueEOY/view?usp=sharing \n",
      "Adventure Path\n",
      "Coming soon!\n",
      "Risks and challenges\n",
      "Developing and distributing a fully digital product is very low risk. We are handling all writing, editing, and artwork in-house. We have done this before and our team is fully committed to delivering the best possible product that we can and getting it in the hands of our backers as expediently as possible.\n",
      "\n",
      "Distribution through DriveThruRPG is the only part of our process not handled in-house because they are a separate company with whom we independently publish our work. If we encounter any issues with the site I will simply deliver the product to backers personally by email while we await the solution.\n",
      "\n",
      "This game is published as independent content for fifth edition Dungeons & Dragons under the Open-Gaming License (OGL). It follows all restrictions and guidelines set out by the Systems Reference Document (SRD). This book was made possible by the generous support Wizards of the Coast and Dungeons & Dragons have offered the community.\n",
      "Learn about accountability on Kickstarter\n",
      "Questions about this project? Check out the FAQ\n",
      "Report this project to Kickstarter\n",
      "\n",
      "\n",
      "https://www.kickstarter.com/projects/badgersfrommars/regicide\n",
      "\n",
      "\n"
     ]
    },
    {
     "name": "stdout",
     "output_type": "stream",
     "text": [
      "\n",
      "\n",
      "<selenium.webdriver.remote.webelement.WebElement (session=\"2f9262c355e2cb11002f9e4dbeddeea0\", element=\"15bc7f99-9787-4342-a6ef-cc11a90bb43a\")>\n",
      "Story\n",
      "Regicide is a card game that can be played with a standard deck of 52 cards plus 2 jokers. The game rules are available here, so feel free to try out Regicide yourself by just grabbing any old deck of cards you might have lying around! We also have a learn to play video at the bottom of this page if you want to see it in action. So why back this project if you can just play Regicide with a standard deck of cards? We think this Regicide deck adds a new level of excitement and immersion while also communicating the key game concepts. Why play a boring 2 of Spades when you could instead play a cute Gnome wielding an oversized cheese cutter?\n",
      "The art is beautifully crafted by the amazing Sketchgoblin, who has extensive experience illustrating many kinds of strange and wonderful fantasy characters. Each of the 54 cards is brought to life with vivid illustrations depicting a diverse cast of intriguing characters and wildlife. The four suits represent different classes while each number represents a race. The Jacks, Queens and Kings are the fearsome enemies that the players must defeat. The game also includes a handy player guide card which reminds the players of the key game concepts. The final product is a deck of cards with which you can play not only Regicide, but any other standard card game too. Whip it out for a game of Poker or Hearts with an above average number of Dwarves and Pangolins!\n",
      "Be warned: this game is challenging! During the testing and balancing stage we played many hundreds of games both between ourselves and with other unwitting volunteers. Through this testing we found the game was no cakewalk. But do not fear, the game is fast to setup, fast to play, and you'll learn valuable lessons from each crushing defeat. Defeated? Just shuffle up and try again! When you finally take out that fourth King high fives with your regicidal comrades is guaranteed.\n",
      "Regicide will be manufactured by MakePlayingCards.com (MPC®), a branded playing cards and card games manufacturing company with over 35 years history. The cards have a beautiful linen finish and a gloss coating. The casino-quality black core card stock means that you'll have a durable deck that feels great to shuffle and play.\n",
      "Shipping is included in the pledge pricing. We ship to anywhere in the world. While a standard deck of cards does not normally invoke customs charges, backers may be liable for import fees and taxes. Please check with your country's import duty laws if you are concerned. \n",
      "\n",
      "Paul, Luke and Andy have been playing and designing games together for over 20 years. We've made board games, card games and computer games. Our drive is to craft engaging experiences with deep gameplay and accessible mechanics. Badgers from Mars is the vehicle by which we hope to bring these to life.\n",
      "Sketchgoblin is a freelance illustrator, based in Wellington, New Zealand. He lives with his wife and cats, spending his time illustrating and playing Dungeons and Dragons. He has always had a passion for drawing quirky characters, spending his childhood with a pencil and paper.\n",
      "\n",
      "Learn to play Regicide!\n",
      "Risks and challenges\n",
      "The game is fully designed, illustrated and our production company is teed up and ready to deliver as soon as the Kickstarter ends. The production company has already shipped multiple Kickstarter campaigns. The risk is as low as it can be for a creative production that is waiting to mass produce.\n",
      "\n",
      "But... we are in the middle of a world-wide pandemic. There are risks that it may delay the production, and especially the shipping of products around the world. Our production partner does not anticipate delays, and we will do everything in our power to ship the product safely to you, but these are unprecedented and uncertain times, delays may happen. Wash your hands, stay in your bubble, play lots of games and stay safe.\n",
      "Learn about accountability on Kickstarter\n",
      "Questions about this project? Check out the FAQ\n",
      "Report this project to Kickstarter\n",
      "\n",
      "\n"
     ]
    }
   ],
   "source": [
    "test_text = get_project_data_2(test_df.iloc[0:3])"
   ]
  },
  {
   "cell_type": "code",
   "execution_count": null,
   "metadata": {},
   "outputs": [],
   "source": []
  },
  {
   "cell_type": "code",
   "execution_count": 71,
   "metadata": {},
   "outputs": [],
   "source": [
    "driver.close()"
   ]
  },
  {
   "cell_type": "code",
   "execution_count": null,
   "metadata": {},
   "outputs": [],
   "source": []
  },
  {
   "cell_type": "markdown",
   "metadata": {},
   "source": [
    "I did end up using the function below to add a few more features to my data:\n",
    "    - Facebook friends of the creator\n",
    "    - Number of kickstarter projects created\n",
    "    - Number of kickstarter projects backed"
   ]
  },
  {
   "cell_type": "code",
   "execution_count": 138,
   "metadata": {},
   "outputs": [],
   "source": [
    "def get_creator_data(my_df):\n",
    "    \n",
    "    \"\"\"\n",
    "    Returns information from each creator for each project URL that is in the input dataframe. \n",
    "    \n",
    "    Input: dataframe in the form generated by get_data\n",
    "    Output: Original dataframe with three additional columns associated with the creator: fb, created, and backed.\n",
    "    \n",
    "    \"\"\"    \n",
    "\n",
    "    my_urls = []\n",
    "    \n",
    "#     print(my_df['urls'])\n",
    "    \n",
    "    url_strings = my_df['urls']\n",
    "    \n",
    "    for row in url_strings:\n",
    "#         print(row)\n",
    "#         print('\\n')\n",
    "        regexp = re.compile(\"'project': (.*),\")\n",
    "        my_urls.append(regexp.search(row).group(1).replace(\"'\",\"\"))\n",
    "        \n",
    "\n",
    "#     print(my_urls)\n",
    "#     print('\\n')\n",
    "        \n",
    "        \n",
    "    for i,url in enumerate(my_urls):\n",
    "#         print(url)\n",
    "        \n",
    "        response  = requests.get(url + '/creator_bio', headers = user_agent)\n",
    "        page = response.text\n",
    "        soup = BeautifulSoup(page, \"lxml\")\n",
    "        \n",
    "        try:\n",
    "#             my_df['fb'].iloc[i] = int(soup.find('a', class_='popup').text.split(' ')[0].replace(',',''))\n",
    "            my_df.iloc[i, my_df.columns.get_loc('fb')] = int(soup.find('a', class_='popup').text.split(' ')[0].replace(',',''))\n",
    "        except:\n",
    "            pass\n",
    "        \n",
    "        # cb = soup.findAll('a', class_ = 'green-dark bold remote_modal_dialog')\n",
    "        cb = soup.find('div', class_ = 'created-projects py2 f5 mb3')\n",
    "        cb_list = re.findall('\\d+', cb.text.replace(',',''))\n",
    "        \n",
    "        \n",
    "        if len(cb_list) == 1:\n",
    "#             my_df['created'].iloc[i] = 0\n",
    "#             my_df['backed'].iloc[i] = int(cb_list[0])\n",
    "            my_df.iloc[i, my_df.columns.get_loc('created')] = 0\n",
    "            my_df.iloc[i, my_df.columns.get_loc('backed')] = int(cb_list[0])\n",
    "            \n",
    "        else:\n",
    "#             my_df['created'].iloc[i] = int(cb_list[0])\n",
    "#             my_df['backed'].iloc[i] = int(cb_list[1])\n",
    "            my_df.iloc[i, my_df.columns.get_loc('created')] = int(cb_list[0])\n",
    "            my_df.iloc[i, my_df.columns.get_loc('backed')] = int(cb_list[1])\n",
    "                \n",
    "      \n",
    "        time.sleep(1)\n",
    "        \n",
    "        \n",
    "    return my_df"
   ]
  },
  {
   "cell_type": "code",
   "execution_count": null,
   "metadata": {},
   "outputs": [],
   "source": []
  },
  {
   "cell_type": "code",
   "execution_count": 142,
   "metadata": {},
   "outputs": [],
   "source": [
    "df_creator.to_csv('df_creator.csv', index=False)"
   ]
  },
  {
   "cell_type": "code",
   "execution_count": 143,
   "metadata": {},
   "outputs": [
    {
     "data": {
      "text/html": [
       "<div>\n",
       "<style scoped>\n",
       "    .dataframe tbody tr th:only-of-type {\n",
       "        vertical-align: middle;\n",
       "    }\n",
       "\n",
       "    .dataframe tbody tr th {\n",
       "        vertical-align: top;\n",
       "    }\n",
       "\n",
       "    .dataframe thead th {\n",
       "        text-align: right;\n",
       "    }\n",
       "</style>\n",
       "<table border=\"1\" class=\"dataframe\">\n",
       "  <thead>\n",
       "    <tr style=\"text-align: right;\">\n",
       "      <th></th>\n",
       "      <th>Unnamed: 0</th>\n",
       "      <th>id</th>\n",
       "      <th>photo</th>\n",
       "      <th>friends</th>\n",
       "      <th>is_starred</th>\n",
       "      <th>is_backing</th>\n",
       "      <th>permissions</th>\n",
       "      <th>urls</th>\n",
       "      <th>name</th>\n",
       "      <th>blurb</th>\n",
       "      <th>...</th>\n",
       "      <th>location</th>\n",
       "      <th>category</th>\n",
       "      <th>profile</th>\n",
       "      <th>spotlight</th>\n",
       "      <th>percent_funded</th>\n",
       "      <th>is_liked</th>\n",
       "      <th>is_disliked</th>\n",
       "      <th>fb</th>\n",
       "      <th>created</th>\n",
       "      <th>backed</th>\n",
       "    </tr>\n",
       "  </thead>\n",
       "  <tbody>\n",
       "    <tr>\n",
       "      <th>0</th>\n",
       "      <td>0</td>\n",
       "      <td>746380653</td>\n",
       "      <td>{'key': 'assets/028/357/363/2327d019e352f0dcb1...</td>\n",
       "      <td>[]</td>\n",
       "      <td>False</td>\n",
       "      <td>False</td>\n",
       "      <td>[]</td>\n",
       "      <td>{'api': {'star': 'https://api.kickstarter.com/...</td>\n",
       "      <td>Kovaud's Adventurer's Guide</td>\n",
       "      <td>A 5th edition supplement crammed full of tons ...</td>\n",
       "      <td>...</td>\n",
       "      <td>{'id': 2400767, 'name': 'Evansville', 'slug': ...</td>\n",
       "      <td>{'id': 34, 'name': 'Tabletop Games', 'slug': '...</td>\n",
       "      <td>{'id': 3947508, 'project_id': 3947508, 'state'...</td>\n",
       "      <td>False</td>\n",
       "      <td>0.520000</td>\n",
       "      <td>False</td>\n",
       "      <td>False</td>\n",
       "      <td>0</td>\n",
       "      <td>0</td>\n",
       "      <td>0</td>\n",
       "    </tr>\n",
       "    <tr>\n",
       "      <th>1</th>\n",
       "      <td>1</td>\n",
       "      <td>850587382</td>\n",
       "      <td>{'key': 'assets/028/705/669/4a448eef23613e5ea0...</td>\n",
       "      <td>[]</td>\n",
       "      <td>False</td>\n",
       "      <td>False</td>\n",
       "      <td>[]</td>\n",
       "      <td>{'api': {'star': 'https://api.kickstarter.com/...</td>\n",
       "      <td>The Twilight Dream: A 5th Edition Setting</td>\n",
       "      <td>A 100+ page original campaign setting and adve...</td>\n",
       "      <td>...</td>\n",
       "      <td>{'id': 2439482, 'name': 'Lincoln', 'slug': 'li...</td>\n",
       "      <td>{'id': 34, 'name': 'Tabletop Games', 'slug': '...</td>\n",
       "      <td>{'id': 3962348, 'project_id': 3962348, 'state'...</td>\n",
       "      <td>False</td>\n",
       "      <td>12.384615</td>\n",
       "      <td>False</td>\n",
       "      <td>False</td>\n",
       "      <td>0</td>\n",
       "      <td>3</td>\n",
       "      <td>8</td>\n",
       "    </tr>\n",
       "    <tr>\n",
       "      <th>2</th>\n",
       "      <td>2</td>\n",
       "      <td>587381352</td>\n",
       "      <td>{'key': 'assets/028/491/554/6975ec7112dd4cd45c...</td>\n",
       "      <td>[]</td>\n",
       "      <td>False</td>\n",
       "      <td>False</td>\n",
       "      <td>[]</td>\n",
       "      <td>{'api': {'star': 'https://api.kickstarter.com/...</td>\n",
       "      <td>Regicide</td>\n",
       "      <td>Regicide is a cooperative, fantasy card game f...</td>\n",
       "      <td>...</td>\n",
       "      <td>{'id': 2348079, 'name': 'Auckland', 'slug': 'a...</td>\n",
       "      <td>{'id': 34, 'name': 'Tabletop Games', 'slug': '...</td>\n",
       "      <td>{'id': 3712837, 'project_id': 3712837, 'state'...</td>\n",
       "      <td>False</td>\n",
       "      <td>32.532483</td>\n",
       "      <td>False</td>\n",
       "      <td>False</td>\n",
       "      <td>150</td>\n",
       "      <td>0</td>\n",
       "      <td>4</td>\n",
       "    </tr>\n",
       "    <tr>\n",
       "      <th>3</th>\n",
       "      <td>3</td>\n",
       "      <td>1340348303</td>\n",
       "      <td>{'key': 'assets/027/965/340/14139bb8c8aba2ce99...</td>\n",
       "      <td>[]</td>\n",
       "      <td>False</td>\n",
       "      <td>False</td>\n",
       "      <td>[]</td>\n",
       "      <td>{'api': {'star': 'https://api.kickstarter.com/...</td>\n",
       "      <td>MOMminiaturas novedades</td>\n",
       "      <td>Miniaturas para wargames de batallas, escaramu...</td>\n",
       "      <td>...</td>\n",
       "      <td>{'id': 769006, 'name': 'Osuna', 'slug': 'osuna...</td>\n",
       "      <td>{'id': 34, 'name': 'Tabletop Games', 'slug': '...</td>\n",
       "      <td>{'id': 3926810, 'project_id': 3926810, 'state'...</td>\n",
       "      <td>False</td>\n",
       "      <td>112.100000</td>\n",
       "      <td>False</td>\n",
       "      <td>False</td>\n",
       "      <td>400</td>\n",
       "      <td>2</td>\n",
       "      <td>0</td>\n",
       "    </tr>\n",
       "    <tr>\n",
       "      <th>4</th>\n",
       "      <td>4</td>\n",
       "      <td>1654502771</td>\n",
       "      <td>{'key': 'assets/028/700/342/95537f32c84604f76a...</td>\n",
       "      <td>[]</td>\n",
       "      <td>False</td>\n",
       "      <td>False</td>\n",
       "      <td>[]</td>\n",
       "      <td>{'api': {'star': 'https://api.kickstarter.com/...</td>\n",
       "      <td>Doomsday - A survival board game for 1-4 players</td>\n",
       "      <td>Help us create our professional prototype and ...</td>\n",
       "      <td>...</td>\n",
       "      <td>{'id': 13911, 'name': 'Brighton', 'slug': 'bri...</td>\n",
       "      <td>{'id': 34, 'name': 'Tabletop Games', 'slug': '...</td>\n",
       "      <td>{'id': 3972713, 'project_id': 3972713, 'state'...</td>\n",
       "      <td>False</td>\n",
       "      <td>2.200000</td>\n",
       "      <td>False</td>\n",
       "      <td>False</td>\n",
       "      <td>0</td>\n",
       "      <td>2</td>\n",
       "      <td>0</td>\n",
       "    </tr>\n",
       "  </tbody>\n",
       "</table>\n",
       "<p>5 rows × 44 columns</p>\n",
       "</div>"
      ],
      "text/plain": [
       "   Unnamed: 0          id                                              photo  \\\n",
       "0           0   746380653  {'key': 'assets/028/357/363/2327d019e352f0dcb1...   \n",
       "1           1   850587382  {'key': 'assets/028/705/669/4a448eef23613e5ea0...   \n",
       "2           2   587381352  {'key': 'assets/028/491/554/6975ec7112dd4cd45c...   \n",
       "3           3  1340348303  {'key': 'assets/027/965/340/14139bb8c8aba2ce99...   \n",
       "4           4  1654502771  {'key': 'assets/028/700/342/95537f32c84604f76a...   \n",
       "\n",
       "  friends is_starred is_backing permissions  \\\n",
       "0      []      False      False          []   \n",
       "1      []      False      False          []   \n",
       "2      []      False      False          []   \n",
       "3      []      False      False          []   \n",
       "4      []      False      False          []   \n",
       "\n",
       "                                                urls  \\\n",
       "0  {'api': {'star': 'https://api.kickstarter.com/...   \n",
       "1  {'api': {'star': 'https://api.kickstarter.com/...   \n",
       "2  {'api': {'star': 'https://api.kickstarter.com/...   \n",
       "3  {'api': {'star': 'https://api.kickstarter.com/...   \n",
       "4  {'api': {'star': 'https://api.kickstarter.com/...   \n",
       "\n",
       "                                               name  \\\n",
       "0                       Kovaud's Adventurer's Guide   \n",
       "1         The Twilight Dream: A 5th Edition Setting   \n",
       "2                                          Regicide   \n",
       "3                           MOMminiaturas novedades   \n",
       "4  Doomsday - A survival board game for 1-4 players   \n",
       "\n",
       "                                               blurb  ...  \\\n",
       "0  A 5th edition supplement crammed full of tons ...  ...   \n",
       "1  A 100+ page original campaign setting and adve...  ...   \n",
       "2  Regicide is a cooperative, fantasy card game f...  ...   \n",
       "3  Miniaturas para wargames de batallas, escaramu...  ...   \n",
       "4  Help us create our professional prototype and ...  ...   \n",
       "\n",
       "                                            location  \\\n",
       "0  {'id': 2400767, 'name': 'Evansville', 'slug': ...   \n",
       "1  {'id': 2439482, 'name': 'Lincoln', 'slug': 'li...   \n",
       "2  {'id': 2348079, 'name': 'Auckland', 'slug': 'a...   \n",
       "3  {'id': 769006, 'name': 'Osuna', 'slug': 'osuna...   \n",
       "4  {'id': 13911, 'name': 'Brighton', 'slug': 'bri...   \n",
       "\n",
       "                                            category  \\\n",
       "0  {'id': 34, 'name': 'Tabletop Games', 'slug': '...   \n",
       "1  {'id': 34, 'name': 'Tabletop Games', 'slug': '...   \n",
       "2  {'id': 34, 'name': 'Tabletop Games', 'slug': '...   \n",
       "3  {'id': 34, 'name': 'Tabletop Games', 'slug': '...   \n",
       "4  {'id': 34, 'name': 'Tabletop Games', 'slug': '...   \n",
       "\n",
       "                                             profile spotlight  \\\n",
       "0  {'id': 3947508, 'project_id': 3947508, 'state'...     False   \n",
       "1  {'id': 3962348, 'project_id': 3962348, 'state'...     False   \n",
       "2  {'id': 3712837, 'project_id': 3712837, 'state'...     False   \n",
       "3  {'id': 3926810, 'project_id': 3926810, 'state'...     False   \n",
       "4  {'id': 3972713, 'project_id': 3972713, 'state'...     False   \n",
       "\n",
       "   percent_funded is_liked is_disliked   fb created  backed  \n",
       "0        0.520000    False       False    0       0       0  \n",
       "1       12.384615    False       False    0       3       8  \n",
       "2       32.532483    False       False  150       0       4  \n",
       "3      112.100000    False       False  400       2       0  \n",
       "4        2.200000    False       False    0       2       0  \n",
       "\n",
       "[5 rows x 44 columns]"
      ]
     },
     "execution_count": 143,
     "metadata": {},
     "output_type": "execute_result"
    }
   ],
   "source": [
    "df_100.head()"
   ]
  },
  {
   "cell_type": "code",
   "execution_count": null,
   "metadata": {},
   "outputs": [],
   "source": []
  }
 ],
 "metadata": {
  "kernelspec": {
   "display_name": "Python [conda env:metis] *",
   "language": "python",
   "name": "conda-env-metis-py"
  },
  "language_info": {
   "codemirror_mode": {
    "name": "ipython",
    "version": 3
   },
   "file_extension": ".py",
   "mimetype": "text/x-python",
   "name": "python",
   "nbconvert_exporter": "python",
   "pygments_lexer": "ipython3",
   "version": "3.7.6"
  }
 },
 "nbformat": 4,
 "nbformat_minor": 4
}
