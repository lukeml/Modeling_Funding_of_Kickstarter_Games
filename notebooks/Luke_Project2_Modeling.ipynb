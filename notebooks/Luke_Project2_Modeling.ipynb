{
 "cells": [
  {
   "cell_type": "code",
   "execution_count": 1,
   "metadata": {},
   "outputs": [],
   "source": [
    "import pandas as pd\n",
    "import numpy as np\n",
    "\n",
    "import matplotlib.pyplot as plt\n",
    "import seaborn as sns\n",
    "\n",
    "from scipy import stats\n",
    "\n",
    "from sklearn.linear_model import LinearRegression, Lasso, Ridge, LassoCV, RidgeCV\n",
    "from sklearn.model_selection import KFold, train_test_split, cross_validate, cross_val_score\n",
    "from sklearn.metrics import r2_score, mean_squared_error\n",
    "from sklearn.pipeline import Pipeline, make_pipeline\n",
    "from sklearn.preprocessing import StandardScaler, PolynomialFeatures\n",
    "\n",
    "from sklearn.dummy import DummyRegressor\n",
    "\n",
    "import statsmodels.api as sm\n",
    "import statsmodels.formula.api as smf\n",
    "import patsy\n",
    "\n",
    "%matplotlib inline"
   ]
  },
  {
   "cell_type": "code",
   "execution_count": 2,
   "metadata": {},
   "outputs": [],
   "source": [
    "df = pd.read_csv('df_log.csv')"
   ]
  },
  {
   "cell_type": "code",
   "execution_count": 3,
   "metadata": {},
   "outputs": [
    {
     "data": {
      "text/html": [
       "<div>\n",
       "<style scoped>\n",
       "    .dataframe tbody tr th:only-of-type {\n",
       "        vertical-align: middle;\n",
       "    }\n",
       "\n",
       "    .dataframe tbody tr th {\n",
       "        vertical-align: top;\n",
       "    }\n",
       "\n",
       "    .dataframe thead th {\n",
       "        text-align: right;\n",
       "    }\n",
       "</style>\n",
       "<table border=\"1\" class=\"dataframe\">\n",
       "  <thead>\n",
       "    <tr style=\"text-align: right;\">\n",
       "      <th></th>\n",
       "      <th>currency</th>\n",
       "      <th>launched_at</th>\n",
       "      <th>staff_pick</th>\n",
       "      <th>is_starrable</th>\n",
       "      <th>spotlight</th>\n",
       "      <th>percent_funded</th>\n",
       "      <th>duration</th>\n",
       "      <th>log_per_fund</th>\n",
       "      <th>log_goal</th>\n",
       "      <th>log_backers</th>\n",
       "      <th>log_fb</th>\n",
       "      <th>log_created</th>\n",
       "      <th>log_backed</th>\n",
       "    </tr>\n",
       "  </thead>\n",
       "  <tbody>\n",
       "    <tr>\n",
       "      <th>0</th>\n",
       "      <td>EUR</td>\n",
       "      <td>1586717639</td>\n",
       "      <td>False</td>\n",
       "      <td>True</td>\n",
       "      <td>False</td>\n",
       "      <td>112.1</td>\n",
       "      <td>20.000000</td>\n",
       "      <td>4.719391</td>\n",
       "      <td>8.006368</td>\n",
       "      <td>3.871201</td>\n",
       "      <td>5.993961</td>\n",
       "      <td>1.098612</td>\n",
       "      <td>0.000000</td>\n",
       "    </tr>\n",
       "    <tr>\n",
       "      <th>1</th>\n",
       "      <td>USD</td>\n",
       "      <td>1586604501</td>\n",
       "      <td>False</td>\n",
       "      <td>True</td>\n",
       "      <td>False</td>\n",
       "      <td>234.6</td>\n",
       "      <td>13.398368</td>\n",
       "      <td>5.457882</td>\n",
       "      <td>8.006368</td>\n",
       "      <td>6.735780</td>\n",
       "      <td>0.000000</td>\n",
       "      <td>3.332205</td>\n",
       "      <td>6.799056</td>\n",
       "    </tr>\n",
       "    <tr>\n",
       "      <th>2</th>\n",
       "      <td>GBP</td>\n",
       "      <td>1586599529</td>\n",
       "      <td>False</td>\n",
       "      <td>True</td>\n",
       "      <td>False</td>\n",
       "      <td>167.0</td>\n",
       "      <td>6.787859</td>\n",
       "      <td>5.117994</td>\n",
       "      <td>4.605170</td>\n",
       "      <td>2.890372</td>\n",
       "      <td>5.545177</td>\n",
       "      <td>3.135494</td>\n",
       "      <td>1.386294</td>\n",
       "    </tr>\n",
       "    <tr>\n",
       "      <th>3</th>\n",
       "      <td>USD</td>\n",
       "      <td>1586541615</td>\n",
       "      <td>False</td>\n",
       "      <td>True</td>\n",
       "      <td>False</td>\n",
       "      <td>246.6</td>\n",
       "      <td>30.000000</td>\n",
       "      <td>5.507768</td>\n",
       "      <td>6.214608</td>\n",
       "      <td>4.158883</td>\n",
       "      <td>0.000000</td>\n",
       "      <td>0.000000</td>\n",
       "      <td>0.000000</td>\n",
       "    </tr>\n",
       "    <tr>\n",
       "      <th>4</th>\n",
       "      <td>GBP</td>\n",
       "      <td>1586520314</td>\n",
       "      <td>False</td>\n",
       "      <td>True</td>\n",
       "      <td>False</td>\n",
       "      <td>375.4</td>\n",
       "      <td>30.995671</td>\n",
       "      <td>5.927992</td>\n",
       "      <td>6.214608</td>\n",
       "      <td>3.784190</td>\n",
       "      <td>0.000000</td>\n",
       "      <td>2.833213</td>\n",
       "      <td>2.564949</td>\n",
       "    </tr>\n",
       "  </tbody>\n",
       "</table>\n",
       "</div>"
      ],
      "text/plain": [
       "  currency  launched_at  staff_pick  is_starrable  spotlight  percent_funded  \\\n",
       "0      EUR   1586717639       False          True      False           112.1   \n",
       "1      USD   1586604501       False          True      False           234.6   \n",
       "2      GBP   1586599529       False          True      False           167.0   \n",
       "3      USD   1586541615       False          True      False           246.6   \n",
       "4      GBP   1586520314       False          True      False           375.4   \n",
       "\n",
       "    duration  log_per_fund  log_goal  log_backers    log_fb  log_created  \\\n",
       "0  20.000000      4.719391  8.006368     3.871201  5.993961     1.098612   \n",
       "1  13.398368      5.457882  8.006368     6.735780  0.000000     3.332205   \n",
       "2   6.787859      5.117994  4.605170     2.890372  5.545177     3.135494   \n",
       "3  30.000000      5.507768  6.214608     4.158883  0.000000     0.000000   \n",
       "4  30.995671      5.927992  6.214608     3.784190  0.000000     2.833213   \n",
       "\n",
       "   log_backed  \n",
       "0    0.000000  \n",
       "1    6.799056  \n",
       "2    1.386294  \n",
       "3    0.000000  \n",
       "4    2.564949  "
      ]
     },
     "execution_count": 3,
     "metadata": {},
     "output_type": "execute_result"
    }
   ],
   "source": [
    "df.head()"
   ]
  },
  {
   "cell_type": "code",
   "execution_count": 4,
   "metadata": {},
   "outputs": [],
   "source": [
    "df = df.drop(['launched_at', 'percent_funded', 'log_backers', 'currency'], axis=1)"
   ]
  },
  {
   "cell_type": "code",
   "execution_count": 5,
   "metadata": {},
   "outputs": [
    {
     "data": {
      "text/html": [
       "<div>\n",
       "<style scoped>\n",
       "    .dataframe tbody tr th:only-of-type {\n",
       "        vertical-align: middle;\n",
       "    }\n",
       "\n",
       "    .dataframe tbody tr th {\n",
       "        vertical-align: top;\n",
       "    }\n",
       "\n",
       "    .dataframe thead th {\n",
       "        text-align: right;\n",
       "    }\n",
       "</style>\n",
       "<table border=\"1\" class=\"dataframe\">\n",
       "  <thead>\n",
       "    <tr style=\"text-align: right;\">\n",
       "      <th></th>\n",
       "      <th>staff_pick</th>\n",
       "      <th>is_starrable</th>\n",
       "      <th>spotlight</th>\n",
       "      <th>duration</th>\n",
       "      <th>log_per_fund</th>\n",
       "      <th>log_goal</th>\n",
       "      <th>log_fb</th>\n",
       "      <th>log_created</th>\n",
       "      <th>log_backed</th>\n",
       "    </tr>\n",
       "  </thead>\n",
       "  <tbody>\n",
       "    <tr>\n",
       "      <th>0</th>\n",
       "      <td>False</td>\n",
       "      <td>True</td>\n",
       "      <td>False</td>\n",
       "      <td>20.000000</td>\n",
       "      <td>4.719391</td>\n",
       "      <td>8.006368</td>\n",
       "      <td>5.993961</td>\n",
       "      <td>1.098612</td>\n",
       "      <td>0.000000</td>\n",
       "    </tr>\n",
       "    <tr>\n",
       "      <th>1</th>\n",
       "      <td>False</td>\n",
       "      <td>True</td>\n",
       "      <td>False</td>\n",
       "      <td>13.398368</td>\n",
       "      <td>5.457882</td>\n",
       "      <td>8.006368</td>\n",
       "      <td>0.000000</td>\n",
       "      <td>3.332205</td>\n",
       "      <td>6.799056</td>\n",
       "    </tr>\n",
       "    <tr>\n",
       "      <th>2</th>\n",
       "      <td>False</td>\n",
       "      <td>True</td>\n",
       "      <td>False</td>\n",
       "      <td>6.787859</td>\n",
       "      <td>5.117994</td>\n",
       "      <td>4.605170</td>\n",
       "      <td>5.545177</td>\n",
       "      <td>3.135494</td>\n",
       "      <td>1.386294</td>\n",
       "    </tr>\n",
       "    <tr>\n",
       "      <th>3</th>\n",
       "      <td>False</td>\n",
       "      <td>True</td>\n",
       "      <td>False</td>\n",
       "      <td>30.000000</td>\n",
       "      <td>5.507768</td>\n",
       "      <td>6.214608</td>\n",
       "      <td>0.000000</td>\n",
       "      <td>0.000000</td>\n",
       "      <td>0.000000</td>\n",
       "    </tr>\n",
       "    <tr>\n",
       "      <th>4</th>\n",
       "      <td>False</td>\n",
       "      <td>True</td>\n",
       "      <td>False</td>\n",
       "      <td>30.995671</td>\n",
       "      <td>5.927992</td>\n",
       "      <td>6.214608</td>\n",
       "      <td>0.000000</td>\n",
       "      <td>2.833213</td>\n",
       "      <td>2.564949</td>\n",
       "    </tr>\n",
       "  </tbody>\n",
       "</table>\n",
       "</div>"
      ],
      "text/plain": [
       "   staff_pick  is_starrable  spotlight   duration  log_per_fund  log_goal  \\\n",
       "0       False          True      False  20.000000      4.719391  8.006368   \n",
       "1       False          True      False  13.398368      5.457882  8.006368   \n",
       "2       False          True      False   6.787859      5.117994  4.605170   \n",
       "3       False          True      False  30.000000      5.507768  6.214608   \n",
       "4       False          True      False  30.995671      5.927992  6.214608   \n",
       "\n",
       "     log_fb  log_created  log_backed  \n",
       "0  5.993961     1.098612    0.000000  \n",
       "1  0.000000     3.332205    6.799056  \n",
       "2  5.545177     3.135494    1.386294  \n",
       "3  0.000000     0.000000    0.000000  \n",
       "4  0.000000     2.833213    2.564949  "
      ]
     },
     "execution_count": 5,
     "metadata": {},
     "output_type": "execute_result"
    }
   ],
   "source": [
    "df.head()"
   ]
  },
  {
   "cell_type": "code",
   "execution_count": 6,
   "metadata": {},
   "outputs": [
    {
     "data": {
      "text/plain": [
       "(900, 9)"
      ]
     },
     "execution_count": 6,
     "metadata": {},
     "output_type": "execute_result"
    }
   ],
   "source": [
    "df.shape"
   ]
  },
  {
   "cell_type": "code",
   "execution_count": 10,
   "metadata": {},
   "outputs": [
    {
     "data": {
      "text/html": [
       "<div>\n",
       "<style scoped>\n",
       "    .dataframe tbody tr th:only-of-type {\n",
       "        vertical-align: middle;\n",
       "    }\n",
       "\n",
       "    .dataframe tbody tr th {\n",
       "        vertical-align: top;\n",
       "    }\n",
       "\n",
       "    .dataframe thead th {\n",
       "        text-align: right;\n",
       "    }\n",
       "</style>\n",
       "<table border=\"1\" class=\"dataframe\">\n",
       "  <thead>\n",
       "    <tr style=\"text-align: right;\">\n",
       "      <th></th>\n",
       "      <th>staff_pick</th>\n",
       "      <th>is_starrable</th>\n",
       "      <th>spotlight</th>\n",
       "      <th>duration</th>\n",
       "      <th>log_per_fund</th>\n",
       "      <th>log_goal</th>\n",
       "      <th>log_fb</th>\n",
       "      <th>log_created</th>\n",
       "      <th>log_backed</th>\n",
       "    </tr>\n",
       "  </thead>\n",
       "  <tbody>\n",
       "    <tr>\n",
       "      <th>staff_pick</th>\n",
       "      <td>1.000000</td>\n",
       "      <td>-0.021776</td>\n",
       "      <td>0.025146</td>\n",
       "      <td>-0.077694</td>\n",
       "      <td>0.106285</td>\n",
       "      <td>0.151660</td>\n",
       "      <td>0.063548</td>\n",
       "      <td>-0.009074</td>\n",
       "      <td>0.131656</td>\n",
       "    </tr>\n",
       "    <tr>\n",
       "      <th>is_starrable</th>\n",
       "      <td>-0.021776</td>\n",
       "      <td>1.000000</td>\n",
       "      <td>-0.932522</td>\n",
       "      <td>0.314521</td>\n",
       "      <td>-0.045277</td>\n",
       "      <td>0.076801</td>\n",
       "      <td>-0.009917</td>\n",
       "      <td>0.058896</td>\n",
       "      <td>-0.083065</td>\n",
       "    </tr>\n",
       "    <tr>\n",
       "      <th>spotlight</th>\n",
       "      <td>0.025146</td>\n",
       "      <td>-0.932522</td>\n",
       "      <td>1.000000</td>\n",
       "      <td>-0.325173</td>\n",
       "      <td>0.028826</td>\n",
       "      <td>-0.081196</td>\n",
       "      <td>0.038139</td>\n",
       "      <td>-0.050107</td>\n",
       "      <td>0.109510</td>\n",
       "    </tr>\n",
       "    <tr>\n",
       "      <th>duration</th>\n",
       "      <td>-0.077694</td>\n",
       "      <td>0.314521</td>\n",
       "      <td>-0.325173</td>\n",
       "      <td>1.000000</td>\n",
       "      <td>-0.010831</td>\n",
       "      <td>0.263366</td>\n",
       "      <td>-0.023388</td>\n",
       "      <td>-0.081749</td>\n",
       "      <td>-0.214443</td>\n",
       "    </tr>\n",
       "    <tr>\n",
       "      <th>log_per_fund</th>\n",
       "      <td>0.106285</td>\n",
       "      <td>-0.045277</td>\n",
       "      <td>0.028826</td>\n",
       "      <td>-0.010831</td>\n",
       "      <td>1.000000</td>\n",
       "      <td>-0.168896</td>\n",
       "      <td>0.037576</td>\n",
       "      <td>0.097803</td>\n",
       "      <td>0.034042</td>\n",
       "    </tr>\n",
       "    <tr>\n",
       "      <th>log_goal</th>\n",
       "      <td>0.151660</td>\n",
       "      <td>0.076801</td>\n",
       "      <td>-0.081196</td>\n",
       "      <td>0.263366</td>\n",
       "      <td>-0.168896</td>\n",
       "      <td>1.000000</td>\n",
       "      <td>0.035812</td>\n",
       "      <td>0.126650</td>\n",
       "      <td>0.115049</td>\n",
       "    </tr>\n",
       "    <tr>\n",
       "      <th>log_fb</th>\n",
       "      <td>0.063548</td>\n",
       "      <td>-0.009917</td>\n",
       "      <td>0.038139</td>\n",
       "      <td>-0.023388</td>\n",
       "      <td>0.037576</td>\n",
       "      <td>0.035812</td>\n",
       "      <td>1.000000</td>\n",
       "      <td>0.211274</td>\n",
       "      <td>0.296909</td>\n",
       "    </tr>\n",
       "    <tr>\n",
       "      <th>log_created</th>\n",
       "      <td>-0.009074</td>\n",
       "      <td>0.058896</td>\n",
       "      <td>-0.050107</td>\n",
       "      <td>-0.081749</td>\n",
       "      <td>0.097803</td>\n",
       "      <td>0.126650</td>\n",
       "      <td>0.211274</td>\n",
       "      <td>1.000000</td>\n",
       "      <td>0.278434</td>\n",
       "    </tr>\n",
       "    <tr>\n",
       "      <th>log_backed</th>\n",
       "      <td>0.131656</td>\n",
       "      <td>-0.083065</td>\n",
       "      <td>0.109510</td>\n",
       "      <td>-0.214443</td>\n",
       "      <td>0.034042</td>\n",
       "      <td>0.115049</td>\n",
       "      <td>0.296909</td>\n",
       "      <td>0.278434</td>\n",
       "      <td>1.000000</td>\n",
       "    </tr>\n",
       "  </tbody>\n",
       "</table>\n",
       "</div>"
      ],
      "text/plain": [
       "              staff_pick  is_starrable  spotlight  duration  log_per_fund  \\\n",
       "staff_pick      1.000000     -0.021776   0.025146 -0.077694      0.106285   \n",
       "is_starrable   -0.021776      1.000000  -0.932522  0.314521     -0.045277   \n",
       "spotlight       0.025146     -0.932522   1.000000 -0.325173      0.028826   \n",
       "duration       -0.077694      0.314521  -0.325173  1.000000     -0.010831   \n",
       "log_per_fund    0.106285     -0.045277   0.028826 -0.010831      1.000000   \n",
       "log_goal        0.151660      0.076801  -0.081196  0.263366     -0.168896   \n",
       "log_fb          0.063548     -0.009917   0.038139 -0.023388      0.037576   \n",
       "log_created    -0.009074      0.058896  -0.050107 -0.081749      0.097803   \n",
       "log_backed      0.131656     -0.083065   0.109510 -0.214443      0.034042   \n",
       "\n",
       "              log_goal    log_fb  log_created  log_backed  \n",
       "staff_pick    0.151660  0.063548    -0.009074    0.131656  \n",
       "is_starrable  0.076801 -0.009917     0.058896   -0.083065  \n",
       "spotlight    -0.081196  0.038139    -0.050107    0.109510  \n",
       "duration      0.263366 -0.023388    -0.081749   -0.214443  \n",
       "log_per_fund -0.168896  0.037576     0.097803    0.034042  \n",
       "log_goal      1.000000  0.035812     0.126650    0.115049  \n",
       "log_fb        0.035812  1.000000     0.211274    0.296909  \n",
       "log_created   0.126650  0.211274     1.000000    0.278434  \n",
       "log_backed    0.115049  0.296909     0.278434    1.000000  "
      ]
     },
     "execution_count": 10,
     "metadata": {},
     "output_type": "execute_result"
    }
   ],
   "source": [
    "df.corr()"
   ]
  },
  {
   "cell_type": "code",
   "execution_count": 13,
   "metadata": {},
   "outputs": [],
   "source": [
    "df_heat = df.drop(['is_starrable'], axis=1)"
   ]
  },
  {
   "cell_type": "code",
   "execution_count": 14,
   "metadata": {},
   "outputs": [
    {
     "data": {
      "text/plain": [
       "Index(['staff_pick', 'spotlight', 'duration', 'log_per_fund', 'log_goal',\n",
       "       'log_fb', 'log_created', 'log_backed'],\n",
       "      dtype='object')"
      ]
     },
     "execution_count": 14,
     "metadata": {},
     "output_type": "execute_result"
    }
   ],
   "source": [
    "df_heat.columns"
   ]
  },
  {
   "cell_type": "code",
   "execution_count": 15,
   "metadata": {},
   "outputs": [],
   "source": [
    "df_heat.columns = ['Staff Pick', 'Spotlight', 'Duration', 'Percent Funded', \\\n",
    "       'Goal', 'Facebook', 'Created', 'Backed']"
   ]
  },
  {
   "cell_type": "code",
   "execution_count": 16,
   "metadata": {},
   "outputs": [
    {
     "data": {
      "text/html": [
       "<div>\n",
       "<style scoped>\n",
       "    .dataframe tbody tr th:only-of-type {\n",
       "        vertical-align: middle;\n",
       "    }\n",
       "\n",
       "    .dataframe tbody tr th {\n",
       "        vertical-align: top;\n",
       "    }\n",
       "\n",
       "    .dataframe thead th {\n",
       "        text-align: right;\n",
       "    }\n",
       "</style>\n",
       "<table border=\"1\" class=\"dataframe\">\n",
       "  <thead>\n",
       "    <tr style=\"text-align: right;\">\n",
       "      <th></th>\n",
       "      <th>Staff Pick</th>\n",
       "      <th>Spotlight</th>\n",
       "      <th>Duration</th>\n",
       "      <th>Percent Funded</th>\n",
       "      <th>Goal</th>\n",
       "      <th>Facebook</th>\n",
       "      <th>Created</th>\n",
       "      <th>Backed</th>\n",
       "    </tr>\n",
       "  </thead>\n",
       "  <tbody>\n",
       "    <tr>\n",
       "      <th>0</th>\n",
       "      <td>False</td>\n",
       "      <td>False</td>\n",
       "      <td>20.000000</td>\n",
       "      <td>4.719391</td>\n",
       "      <td>8.006368</td>\n",
       "      <td>5.993961</td>\n",
       "      <td>1.098612</td>\n",
       "      <td>0.000000</td>\n",
       "    </tr>\n",
       "    <tr>\n",
       "      <th>1</th>\n",
       "      <td>False</td>\n",
       "      <td>False</td>\n",
       "      <td>13.398368</td>\n",
       "      <td>5.457882</td>\n",
       "      <td>8.006368</td>\n",
       "      <td>0.000000</td>\n",
       "      <td>3.332205</td>\n",
       "      <td>6.799056</td>\n",
       "    </tr>\n",
       "    <tr>\n",
       "      <th>2</th>\n",
       "      <td>False</td>\n",
       "      <td>False</td>\n",
       "      <td>6.787859</td>\n",
       "      <td>5.117994</td>\n",
       "      <td>4.605170</td>\n",
       "      <td>5.545177</td>\n",
       "      <td>3.135494</td>\n",
       "      <td>1.386294</td>\n",
       "    </tr>\n",
       "    <tr>\n",
       "      <th>3</th>\n",
       "      <td>False</td>\n",
       "      <td>False</td>\n",
       "      <td>30.000000</td>\n",
       "      <td>5.507768</td>\n",
       "      <td>6.214608</td>\n",
       "      <td>0.000000</td>\n",
       "      <td>0.000000</td>\n",
       "      <td>0.000000</td>\n",
       "    </tr>\n",
       "    <tr>\n",
       "      <th>4</th>\n",
       "      <td>False</td>\n",
       "      <td>False</td>\n",
       "      <td>30.995671</td>\n",
       "      <td>5.927992</td>\n",
       "      <td>6.214608</td>\n",
       "      <td>0.000000</td>\n",
       "      <td>2.833213</td>\n",
       "      <td>2.564949</td>\n",
       "    </tr>\n",
       "  </tbody>\n",
       "</table>\n",
       "</div>"
      ],
      "text/plain": [
       "   Staff Pick  Spotlight   Duration  Percent Funded      Goal  Facebook  \\\n",
       "0       False      False  20.000000        4.719391  8.006368  5.993961   \n",
       "1       False      False  13.398368        5.457882  8.006368  0.000000   \n",
       "2       False      False   6.787859        5.117994  4.605170  5.545177   \n",
       "3       False      False  30.000000        5.507768  6.214608  0.000000   \n",
       "4       False      False  30.995671        5.927992  6.214608  0.000000   \n",
       "\n",
       "    Created    Backed  \n",
       "0  1.098612  0.000000  \n",
       "1  3.332205  6.799056  \n",
       "2  3.135494  1.386294  \n",
       "3  0.000000  0.000000  \n",
       "4  2.833213  2.564949  "
      ]
     },
     "execution_count": 16,
     "metadata": {},
     "output_type": "execute_result"
    }
   ],
   "source": [
    "df_heat.head()"
   ]
  },
  {
   "cell_type": "code",
   "execution_count": 17,
   "metadata": {},
   "outputs": [],
   "source": [
    "df_heat = df_heat[['Staff Pick', 'Spotlight', 'Duration',  \\\n",
    "       'Goal', 'Facebook', 'Created', 'Backed', 'Percent Funded']]"
   ]
  },
  {
   "cell_type": "code",
   "execution_count": 18,
   "metadata": {
    "scrolled": true
   },
   "outputs": [
    {
     "data": {
      "text/plain": [
       "Text(0.5, 1.0, 'Correlation Heatmap')"
      ]
     },
     "execution_count": 18,
     "metadata": {},
     "output_type": "execute_result"
    },
    {
     "data": {
      "image/png": "[encoded data removed]",
      "text/plain": [
       "<Figure size 576x576 with 2 Axes>"
      ]
     },
     "metadata": {
      "needs_background": "light"
     },
     "output_type": "display_data"
    }
   ],
   "source": [
    "plt.subplots(figsize=(8,8))\n",
    "df_heatmap = sns.heatmap(df_heat.corr(), cmap=\"seismic\", annot=True, vmin=-1, vmax=1, cbar_kws= {'orientation': 'horizontal'}, )\n",
    "plt.yticks(rotation = 0)\n",
    "plt.xticks(rotation = 45)\n",
    "plt.title('Correlation Heatmap')"
   ]
  },
  {
   "cell_type": "markdown",
   "metadata": {},
   "source": [
    "The above heatmap is still part of the EDA. I probably should've moved it to the exploration notebook. In any case, the last row in the heatmap shows the low correlation between the target \"Percent Funded\" and the features. Note that I created this figure for my presentation, so many of the features and the target itself are actually transformed."
   ]
  },
  {
   "cell_type": "code",
   "execution_count": null,
   "metadata": {},
   "outputs": [],
   "source": []
  },
  {
   "cell_type": "code",
   "execution_count": 19,
   "metadata": {},
   "outputs": [
    {
     "data": {
      "text/plain": [
       "0.06693172684063886"
      ]
     },
     "execution_count": 19,
     "metadata": {},
     "output_type": "execute_result"
    }
   ],
   "source": [
    "X = df[['log_goal', 'staff_pick', 'log_created']]\n",
    "y = df['log_per_fund']\n",
    "\n",
    "#X_train, X_test, y_train, y_test = train_test_split(X, y, test_size=0.2, random_state=42)\n",
    "X_train, X_test, y_train, y_test = train_test_split(X, y, test_size=0.2)\n",
    "\n",
    "lr = LinearRegression()\n",
    "\n",
    "lr.fit(X_train, y_train)\n",
    "\n",
    "lr.score(X_test, y_test)"
   ]
  },
  {
   "cell_type": "markdown",
   "metadata": {},
   "source": [
    "Above is just a simple regression I ran to get an idea of the R^2. Not so good.\n",
    "\n",
    "Below is a scatterplot of the residuals. Definitely better than what I got prior to transforming the data. But still maybe not ideal."
   ]
  },
  {
   "cell_type": "code",
   "execution_count": 20,
   "metadata": {},
   "outputs": [
    {
     "data": {
      "image/png": "[encoded data removed]",
      "text/plain": [
       "<Figure size 720x576 with 1 Axes>"
      ]
     },
     "metadata": {
      "needs_background": "light"
     },
     "output_type": "display_data"
    }
   ],
   "source": [
    "plt.subplots(figsize=(10,8))\n",
    "plt.scatter(lr.predict(X_test), lr.predict(X_test) - y_test)\n",
    "plt.title('Residual Plot')\n",
    "plt.savefig('lr_scatter.png')"
   ]
  },
  {
   "cell_type": "code",
   "execution_count": null,
   "metadata": {},
   "outputs": [],
   "source": []
  },
  {
   "cell_type": "code",
   "execution_count": null,
   "metadata": {},
   "outputs": [],
   "source": []
  },
  {
   "cell_type": "code",
   "execution_count": 26,
   "metadata": {},
   "outputs": [],
   "source": [
    "X = df.drop(['log_per_fund'], axis=1)\n",
    "y = df['log_per_fund']"
   ]
  },
  {
   "cell_type": "markdown",
   "metadata": {},
   "source": [
    "#### Train/Validation Split"
   ]
  },
  {
   "cell_type": "code",
   "execution_count": 27,
   "metadata": {},
   "outputs": [],
   "source": [
    "def split_and_validate(X, y):\n",
    "    '''\n",
    "    For a set of features and target X, y, perform a 80/20 train/val split, \n",
    "    fit and validate a linear regression model, and report results\n",
    "    \n",
    "    Input: \n",
    "        X: Dataframe of features\n",
    "        y: Dataframe (series) of target\n",
    "\n",
    "    '''\n",
    "    \n",
    "    # perform train/val split\n",
    "    X_train, X_val, y_train, y_val = \\\n",
    "        train_test_split(X, y, test_size=0.2)\n",
    "    \n",
    "    \n",
    "    \n",
    "    # fit linear regression to training data\n",
    "    lr_model = LinearRegression()\n",
    "    lr_model.fit(X_train, y_train)\n",
    "    \n",
    "    # score fit model on validation data\n",
    "    val_score = lr_model.score(X_val, y_val)\n",
    "    \n",
    "    # report results\n",
    "    print('\\nValidation R^2 score was:', val_score)\n",
    "    \n",
    "    # Predict on the test data: y_pred\n",
    "    y_pred = lr_model.predict(X_val)\n",
    "    rmse = np.sqrt(mean_squared_error(y_val, y_pred))\n",
    "    print(\"Root Mean Squared Error: {}\".format(rmse))\n",
    "    \n",
    "    print('\\nFeature coefficient results: \\n')\n",
    "    for feature, coef in zip(X.columns, lr_model.coef_):\n",
    "        print(feature, ':', f'{coef:.2f}')\n",
    "        \n"
   ]
  },
  {
   "cell_type": "code",
   "execution_count": 28,
   "metadata": {},
   "outputs": [
    {
     "name": "stdout",
     "output_type": "stream",
     "text": [
      "\n",
      "Validation R^2 score was: 0.04406095932159393\n",
      "Root Mean Squared Error: 0.9092503441608393\n",
      "\n",
      "Feature coefficient results: \n",
      "\n",
      "staff_pick : 0.56\n",
      "is_starrable : -0.44\n",
      "spotlight : -0.32\n",
      "duration : 0.01\n",
      "log_goal : -0.14\n",
      "log_fb : -0.00\n",
      "log_created : 0.13\n",
      "log_backed : 0.01\n"
     ]
    }
   ],
   "source": [
    "split_and_validate(X,y)"
   ]
  },
  {
   "cell_type": "markdown",
   "metadata": {},
   "source": [
    "The above was still another test run this time using train_test_split\n",
    "\n",
    "Below was a test using statsmodel."
   ]
  },
  {
   "cell_type": "code",
   "execution_count": 29,
   "metadata": {},
   "outputs": [
    {
     "data": {
      "text/html": [
       "<table class=\"simpletable\">\n",
       "<caption>OLS Regression Results</caption>\n",
       "<tr>\n",
       "  <th>Dep. Variable:</th>      <td>log_per_fund</td>   <th>  R-squared:         </th> <td>   0.068</td>\n",
       "</tr>\n",
       "<tr>\n",
       "  <th>Model:</th>                   <td>OLS</td>       <th>  Adj. R-squared:    </th> <td>   0.061</td>\n",
       "</tr>\n",
       "<tr>\n",
       "  <th>Method:</th>             <td>Least Squares</td>  <th>  F-statistic:       </th> <td>   9.320</td>\n",
       "</tr>\n",
       "<tr>\n",
       "  <th>Date:</th>             <td>Sun, 19 Apr 2020</td> <th>  Prob (F-statistic):</th> <td>3.56e-11</td>\n",
       "</tr>\n",
       "<tr>\n",
       "  <th>Time:</th>                 <td>23:19:44</td>     <th>  Log-Likelihood:    </th> <td> -1258.2</td>\n",
       "</tr>\n",
       "<tr>\n",
       "  <th>No. Observations:</th>      <td>   900</td>      <th>  AIC:               </th> <td>   2532.</td>\n",
       "</tr>\n",
       "<tr>\n",
       "  <th>Df Residuals:</th>          <td>   892</td>      <th>  BIC:               </th> <td>   2571.</td>\n",
       "</tr>\n",
       "<tr>\n",
       "  <th>Df Model:</th>              <td>     7</td>      <th>                     </th>     <td> </td>   \n",
       "</tr>\n",
       "<tr>\n",
       "  <th>Covariance Type:</th>      <td>nonrobust</td>    <th>                     </th>     <td> </td>   \n",
       "</tr>\n",
       "</table>\n",
       "<table class=\"simpletable\">\n",
       "<tr>\n",
       "           <td></td>             <th>coef</th>     <th>std err</th>      <th>t</th>      <th>P>|t|</th>  <th>[0.025</th>    <th>0.975]</th>  \n",
       "</tr>\n",
       "<tr>\n",
       "  <th>Intercept</th>          <td>    6.5048</td> <td>    0.197</td> <td>   33.085</td> <td> 0.000</td> <td>    6.119</td> <td>    6.891</td>\n",
       "</tr>\n",
       "<tr>\n",
       "  <th>spotlight[T.True]</th>  <td>    0.1180</td> <td>    0.102</td> <td>    1.157</td> <td> 0.248</td> <td>   -0.082</td> <td>    0.318</td>\n",
       "</tr>\n",
       "<tr>\n",
       "  <th>staff_pick[T.True]</th> <td>    0.4900</td> <td>    0.112</td> <td>    4.387</td> <td> 0.000</td> <td>    0.271</td> <td>    0.709</td>\n",
       "</tr>\n",
       "<tr>\n",
       "  <th>log_goal</th>           <td>   -0.1354</td> <td>    0.020</td> <td>   -6.609</td> <td> 0.000</td> <td>   -0.176</td> <td>   -0.095</td>\n",
       "</tr>\n",
       "<tr>\n",
       "  <th>log_created</th>        <td>    0.1208</td> <td>    0.032</td> <td>    3.815</td> <td> 0.000</td> <td>    0.059</td> <td>    0.183</td>\n",
       "</tr>\n",
       "<tr>\n",
       "  <th>log_fb</th>             <td>    0.0013</td> <td>    0.011</td> <td>    0.114</td> <td> 0.909</td> <td>   -0.020</td> <td>    0.023</td>\n",
       "</tr>\n",
       "<tr>\n",
       "  <th>duration</th>           <td>    0.0094</td> <td>    0.004</td> <td>    2.420</td> <td> 0.016</td> <td>    0.002</td> <td>    0.017</td>\n",
       "</tr>\n",
       "<tr>\n",
       "  <th>log_backed</th>         <td>    0.0112</td> <td>    0.022</td> <td>    0.504</td> <td> 0.615</td> <td>   -0.032</td> <td>    0.055</td>\n",
       "</tr>\n",
       "</table>\n",
       "<table class=\"simpletable\">\n",
       "<tr>\n",
       "  <th>Omnibus:</th>       <td>109.936</td> <th>  Durbin-Watson:     </th> <td>   1.961</td>\n",
       "</tr>\n",
       "<tr>\n",
       "  <th>Prob(Omnibus):</th> <td> 0.000</td>  <th>  Jarque-Bera (JB):  </th> <td> 155.589</td>\n",
       "</tr>\n",
       "<tr>\n",
       "  <th>Skew:</th>          <td> 0.892</td>  <th>  Prob(JB):          </th> <td>1.64e-34</td>\n",
       "</tr>\n",
       "<tr>\n",
       "  <th>Kurtosis:</th>      <td> 3.984</td>  <th>  Cond. No.          </th> <td>    162.</td>\n",
       "</tr>\n",
       "</table><br/><br/>Warnings:<br/>[1] Standard Errors assume that the covariance matrix of the errors is correctly specified."
      ],
      "text/plain": [
       "<class 'statsmodels.iolib.summary.Summary'>\n",
       "\"\"\"\n",
       "                            OLS Regression Results                            \n",
       "==============================================================================\n",
       "Dep. Variable:           log_per_fund   R-squared:                       0.068\n",
       "Model:                            OLS   Adj. R-squared:                  0.061\n",
       "Method:                 Least Squares   F-statistic:                     9.320\n",
       "Date:                Sun, 19 Apr 2020   Prob (F-statistic):           3.56e-11\n",
       "Time:                        23:19:44   Log-Likelihood:                -1258.2\n",
       "No. Observations:                 900   AIC:                             2532.\n",
       "Df Residuals:                     892   BIC:                             2571.\n",
       "Df Model:                           7                                         \n",
       "Covariance Type:            nonrobust                                         \n",
       "======================================================================================\n",
       "                         coef    std err          t      P>|t|      [0.025      0.975]\n",
       "--------------------------------------------------------------------------------------\n",
       "Intercept              6.5048      0.197     33.085      0.000       6.119       6.891\n",
       "spotlight[T.True]      0.1180      0.102      1.157      0.248      -0.082       0.318\n",
       "staff_pick[T.True]     0.4900      0.112      4.387      0.000       0.271       0.709\n",
       "log_goal              -0.1354      0.020     -6.609      0.000      -0.176      -0.095\n",
       "log_created            0.1208      0.032      3.815      0.000       0.059       0.183\n",
       "log_fb                 0.0013      0.011      0.114      0.909      -0.020       0.023\n",
       "duration               0.0094      0.004      2.420      0.016       0.002       0.017\n",
       "log_backed             0.0112      0.022      0.504      0.615      -0.032       0.055\n",
       "==============================================================================\n",
       "Omnibus:                      109.936   Durbin-Watson:                   1.961\n",
       "Prob(Omnibus):                  0.000   Jarque-Bera (JB):              155.589\n",
       "Skew:                           0.892   Prob(JB):                     1.64e-34\n",
       "Kurtosis:                       3.984   Cond. No.                         162.\n",
       "==============================================================================\n",
       "\n",
       "Warnings:\n",
       "[1] Standard Errors assume that the covariance matrix of the errors is correctly specified.\n",
       "\"\"\""
      ]
     },
     "execution_count": 29,
     "metadata": {},
     "output_type": "execute_result"
    }
   ],
   "source": [
    "y_stats, X_stats = patsy.dmatrices('log_per_fund ~ spotlight + staff_pick + log_goal + log_created + log_fb + duration + log_backed', data = df, return_type=\"dataframe\")\n",
    "model = sm.OLS(y_stats, X_stats)\n",
    "fit = model.fit()\n",
    "fit.summary()"
   ]
  },
  {
   "cell_type": "code",
   "execution_count": 30,
   "metadata": {},
   "outputs": [
    {
     "data": {
      "text/plain": [
       "<matplotlib.collections.PathCollection at 0x26c10fb9e08>"
      ]
     },
     "execution_count": 30,
     "metadata": {},
     "output_type": "execute_result"
    },
    {
     "data": {
      "image/png": "[encoded data removed]",
      "text/plain": [
       "<Figure size 864x576 with 1 Axes>"
      ]
     },
     "metadata": {
      "needs_background": "light"
     },
     "output_type": "display_data"
    }
   ],
   "source": [
    "plt.figure(figsize=(12,8))\n",
    "plt.scatter(fit.predict(), fit.resid)"
   ]
  },
  {
   "cell_type": "markdown",
   "metadata": {},
   "source": [
    "So I'm not sure about the residual plot above. It definitely looks off. I'm not totally sure I did it correctly. I used code I googled."
   ]
  },
  {
   "cell_type": "markdown",
   "metadata": {},
   "source": [
    "#### Comparing Regression Methods"
   ]
  },
  {
   "cell_type": "code",
   "execution_count": 17,
   "metadata": {},
   "outputs": [],
   "source": [
    "X = df.drop(['log_per_fund'], axis=1)\n",
    "y = df['log_per_fund']"
   ]
  },
  {
   "cell_type": "code",
   "execution_count": 18,
   "metadata": {},
   "outputs": [],
   "source": [
    "# hold out 20% of the data for final testing\n",
    "X, X_test, y, y_test = train_test_split(X, y, test_size=.2, random_state=10)"
   ]
  },
  {
   "cell_type": "code",
   "execution_count": 19,
   "metadata": {},
   "outputs": [],
   "source": [
    "X_train, X_val, y_train, y_val = train_test_split(X, y, test_size=.25, random_state=3)"
   ]
  },
  {
   "cell_type": "code",
   "execution_count": 20,
   "metadata": {},
   "outputs": [],
   "source": [
    "#set up the 3 models we're choosing from:\n",
    "\n",
    "lm = LinearRegression()\n",
    "\n",
    "#Feature scaling for train, val, and test so that we can run our ridge model on each\n",
    "scaler = StandardScaler()\n",
    "\n",
    "X_train_scaled = scaler.fit_transform(X_train.values)\n",
    "X_val_scaled = scaler.transform(X_val.values)\n",
    "X_test_scaled = scaler.transform(X_test.values)\n",
    "\n",
    "lm_reg = Ridge(alpha=1)\n",
    "\n",
    "#Feature transforms for train, val, and test so that we can run our poly model on each\n",
    "poly = PolynomialFeatures(degree=2) \n",
    "\n",
    "X_train_poly = poly.fit_transform(X_train.values)\n",
    "X_val_poly = poly.transform(X_val.values)\n",
    "X_test_poly = poly.transform(X_test.values)\n",
    "\n",
    "lm_poly = LinearRegression()"
   ]
  },
  {
   "cell_type": "code",
   "execution_count": 21,
   "metadata": {},
   "outputs": [
    {
     "name": "stdout",
     "output_type": "stream",
     "text": [
      "Linear Regression val R^2: 0.038\n",
      "Ridge Regression val R^2: 0.038\n",
      "Degree 2 polynomial regression val R^2: -0.740\n"
     ]
    }
   ],
   "source": [
    "#validate\n",
    "\n",
    "lm.fit(X_train, y_train)\n",
    "print(f'Linear Regression val R^2: {lm.score(X_val, y_val):.3f}')\n",
    "\n",
    "lm_reg.fit(X_train_scaled, y_train)\n",
    "print(f'Ridge Regression val R^2: {lm_reg.score(X_val_scaled, y_val):.3f}')\n",
    "\n",
    "lm_poly.fit(X_train_poly, y_train)\n",
    "print(f'Degree 2 polynomial regression val R^2: {lm_poly.score(X_val_poly, y_val):.3f}')"
   ]
  },
  {
   "cell_type": "code",
   "execution_count": 22,
   "metadata": {},
   "outputs": [
    {
     "name": "stdout",
     "output_type": "stream",
     "text": [
      "Linear Regression test R^2: -0.058\n"
     ]
    }
   ],
   "source": [
    "lm.fit(X,y)\n",
    "print(f'Linear Regression test R^2: {lm.score(X_test, y_test):.3f}')"
   ]
  },
  {
   "cell_type": "markdown",
   "metadata": {},
   "source": [
    "So I'm not sure if I did something wrong, but it seems odd to me that the OLS and Ridge regression appear to be returning the same R^2. Also, perhaps my model is overfitting based on the negative R^2 for the test. However, my R^2 is so low to begin with that maybe this is just by chance. "
   ]
  },
  {
   "cell_type": "code",
   "execution_count": null,
   "metadata": {},
   "outputs": [],
   "source": []
  },
  {
   "cell_type": "code",
   "execution_count": null,
   "metadata": {},
   "outputs": [],
   "source": []
  },
  {
   "cell_type": "markdown",
   "metadata": {},
   "source": [
    "#### KFold"
   ]
  },
  {
   "cell_type": "code",
   "execution_count": 72,
   "metadata": {},
   "outputs": [],
   "source": [
    "X = df.drop(['log_per_fund'], axis=1)\n",
    "y = df['log_per_fund']"
   ]
  },
  {
   "cell_type": "code",
   "execution_count": 73,
   "metadata": {},
   "outputs": [],
   "source": [
    "X, X_test, y, y_test = train_test_split(X, y, test_size=.2) #hold out 20% of the data for final testing\n",
    "\n",
    "#this helps with the way kf will generate indices below\n",
    "X, y = np.array(X), np.array(y)"
   ]
  },
  {
   "cell_type": "code",
   "execution_count": 88,
   "metadata": {},
   "outputs": [
    {
     "name": "stdout",
     "output_type": "stream",
     "text": [
      "Simple regression scores:  [0.010309724814159704, 0.024218949986126725, -0.05884677483973544, 0.10544602230265443, 0.11377856522235208]\n",
      "Ridge scores:  [0.010584227289649695, 0.02447105934731475, -0.058546876553219336, 0.10518171456003167, 0.11353282716987345] \n",
      "\n",
      "Simple mean cv r^2: 0.039 +- 0.064\n",
      "Ridge mean cv r^2: 0.039 +- 0.064\n"
     ]
    }
   ],
   "source": [
    "kf = KFold(n_splits=5, shuffle=True)\n",
    "cv_lm_r2s, cv_lm_reg_r2s = [], [] #collect the validation results for both models\n",
    "\n",
    "for train_ind, val_ind in kf.split(X,y):\n",
    "    \n",
    "    X_train, y_train = X[train_ind], y[train_ind]\n",
    "    X_val, y_val = X[val_ind], y[val_ind] \n",
    "    \n",
    "    lm = LinearRegression()\n",
    "\n",
    "    lm.fit(X_train, y_train)\n",
    "    cv_lm_r2s.append(lm.score(X_val, y_val))\n",
    "    \n",
    "    #ridge with feature scaling\n",
    "    scaler = StandardScaler()\n",
    "    X_train_scaled = scaler.fit_transform(X_train)\n",
    "    X_val_scaled = scaler.transform(X_val)\n",
    "    \n",
    "    \n",
    "    lm_reg = Ridge(alpha=1)\n",
    "    \n",
    "    lm_reg.fit(X_train_scaled, y_train)\n",
    "    cv_lm_reg_r2s.append(lm_reg.score(X_val_scaled, y_val))\n",
    "\n",
    "print('Simple regression scores: ', cv_lm_r2s)\n",
    "print('Ridge scores: ', cv_lm_reg_r2s, '\\n')\n",
    "\n",
    "print(f'Simple mean cv r^2: {np.mean(cv_lm_r2s):.3f} +- {np.std(cv_lm_r2s):.3f}')\n",
    "print(f'Ridge mean cv r^2: {np.mean(cv_lm_reg_r2s):.3f} +- {np.std(cv_lm_reg_r2s):.3f}')"
   ]
  },
  {
   "cell_type": "markdown",
   "metadata": {},
   "source": [
    "Seems like Simple and Ridge yield essentially the same results. "
   ]
  },
  {
   "cell_type": "code",
   "execution_count": 85,
   "metadata": {},
   "outputs": [
    {
     "name": "stdout",
     "output_type": "stream",
     "text": [
      "Simple Regression test R^2: 0.020\n",
      "Ridge Regression test R^2: 0.020\n"
     ]
    }
   ],
   "source": [
    "scaler = StandardScaler()\n",
    "X_scaled = scaler.fit_transform(X)\n",
    "X_test_scaled = scaler.transform(X_test)\n",
    "\n",
    "lm = LinearRegression()\n",
    "lm.fit(X,y)\n",
    "print(f'Simple Regression test R^2: {lm.score(X_test, y_test):.3f}')\n",
    "\n",
    "lm_reg = Ridge(alpha=1)\n",
    "lm_reg.fit(X_scaled,y)\n",
    "print(f'Ridge Regression test R^2: {lm_reg.score(X_test_scaled, y_test):.3f}')"
   ]
  },
  {
   "cell_type": "markdown",
   "metadata": {},
   "source": [
    "In the results above, both OLS and Ridge are still giving the same results. At least this time the R^2 are not negative (but that may be simply due to chance)."
   ]
  },
  {
   "cell_type": "code",
   "execution_count": null,
   "metadata": {},
   "outputs": [],
   "source": []
  },
  {
   "cell_type": "code",
   "execution_count": 23,
   "metadata": {},
   "outputs": [],
   "source": [
    "X = df.drop(['log_per_fund'], axis=1)\n",
    "y = df['log_per_fund']"
   ]
  },
  {
   "cell_type": "code",
   "execution_count": 24,
   "metadata": {},
   "outputs": [],
   "source": [
    "X, X_test, y, y_test = train_test_split(X, y, test_size=.2) #hold out 20% of the data for final testing\n",
    "\n",
    "#this helps with the way kf will generate indices below\n",
    "X, y = np.array(X), np.array(y)"
   ]
  },
  {
   "cell_type": "code",
   "execution_count": 25,
   "metadata": {
    "scrolled": true
   },
   "outputs": [
    {
     "name": "stdout",
     "output_type": "stream",
     "text": [
      "Simple regression scores:  [0.010478628925134736, 0.031100505337447234, 0.019190401102942456, -0.03236210512308468, 0.1313659115079292] \n",
      "\n",
      "Ridge scores:  [0.01035670568713909, 0.031112426515690243, 0.01938555487611371, -0.031247574521672483, 0.13132574436750233] \n",
      "\n",
      "Degree 2 polynomial:  [-0.4723379261883364, -13.241297718035007, 0.0566812006851951, -0.07022711780717406, -15.013585547185393] \n",
      "\n",
      "\n",
      "Simple mean cv r^2: 0.032 +- 0.054\n",
      "Ridge mean cv r^2: 0.032 +- 0.054\n",
      "Degree 2 polynomial mean cv R^2: -5.748 +- 6.867\n",
      "Simple mean cv rmse: 0.973 +- 0.076\n",
      "Ridge mean cv rmse: 0.972 +- 0.076\n",
      "Degree 2 polynomial mean cv rmse: 2.185 +- 1.393\n"
     ]
    }
   ],
   "source": [
    "#run the CV\n",
    "\n",
    "kf = KFold(n_splits=5, shuffle=True)\n",
    "cv_lm_r2s, cv_lm_reg_r2s, cv_poly = [], [], [] #collect the validation results for both models\n",
    "cv_lm_rmse, cv_lm_reg_rmse, cv_lm_poly_rmse = [], [], [] \n",
    "\n",
    "for train_ind, val_ind in kf.split(X,y):\n",
    "    \n",
    "    X_train, y_train = X[train_ind], y[train_ind]\n",
    "    X_val, y_val = X[val_ind], y[val_ind] \n",
    "    \n",
    "    #simple linear regression\n",
    "    lm = LinearRegression()\n",
    "    lm_reg = Ridge(alpha=1)\n",
    "\n",
    "    lm.fit(X_train, y_train)\n",
    "    cv_lm_r2s.append(lm.score(X_val, y_val))\n",
    "    \n",
    "    lm_te_pred = lm.predict(X_val)\n",
    "    cv_lm_rmse.append(np.sqrt(mean_squared_error(y_val, lm_te_pred)))\n",
    "    \n",
    "    #ridge with feature scaling\n",
    "    scaler = StandardScaler()\n",
    "    X_train_scaled = scaler.fit_transform(X_train)\n",
    "    X_val_scaled = scaler.transform(X_val)\n",
    "    \n",
    "    lm_reg.fit(X_train_scaled, y_train)\n",
    "    cv_lm_reg_r2s.append(lm_reg.score(X_val_scaled, y_val))\n",
    "    \n",
    "    lm_reg_te_pred = lm_reg.predict(X_val_scaled)\n",
    "    cv_lm_reg_rmse.append(np.sqrt(mean_squared_error(y_val, lm_reg_te_pred)))\n",
    "    \n",
    "    #Feature transforms for train, val, and test so that we can run our poly model on each\n",
    "    poly = PolynomialFeatures(degree=2) \n",
    "\n",
    "    X_train_poly = poly.fit_transform(X_train)\n",
    "    X_val_poly = poly.transform(X_val)\n",
    "    X_test_poly = poly.transform(X_test)\n",
    "\n",
    "    lm_poly = LinearRegression()\n",
    "    lm_poly.fit(X_train_poly, y_train)\n",
    "    cv_poly.append(lm_poly.score(X_val_poly, y_val))\n",
    "    \n",
    "    lm_poly_te_pred = lm_poly.predict(X_val_poly)\n",
    "    cv_lm_poly_rmse.append(np.sqrt(mean_squared_error(y_val, lm_poly_te_pred)))\n",
    "\n",
    "\n",
    "print('Simple regression scores: ', cv_lm_r2s, '\\n')\n",
    "print('Ridge scores: ', cv_lm_reg_r2s, '\\n')\n",
    "print('Degree 2 polynomial: ', cv_poly, '\\n\\n')\n",
    "\n",
    "print(f'Simple mean cv r^2: {np.mean(cv_lm_r2s):.3f} +- {np.std(cv_lm_r2s):.3f}')\n",
    "print(f'Ridge mean cv r^2: {np.mean(cv_lm_reg_r2s):.3f} +- {np.std(cv_lm_reg_r2s):.3f}')\n",
    "print(f'Degree 2 polynomial mean cv R^2: {np.mean(cv_poly):.3f} +- {np.std(cv_poly):.3f}')\n",
    "\n",
    "print(f'Simple mean cv rmse: {np.mean(cv_lm_rmse):.3f} +- {np.std(cv_lm_rmse):.3f}')\n",
    "print(f'Ridge mean cv rmse: {np.mean(cv_lm_reg_rmse):.3f} +- {np.std(cv_lm_reg_rmse):.3f}')\n",
    "print(f'Degree 2 polynomial mean cv rmse: {np.mean(cv_lm_poly_rmse):.3f} +- {np.std(cv_lm_poly_rmse):.3f}')\n"
   ]
  },
  {
   "cell_type": "markdown",
   "metadata": {},
   "source": [
    "Polynomial regression did not seem to be useful here. "
   ]
  },
  {
   "cell_type": "code",
   "execution_count": null,
   "metadata": {},
   "outputs": [],
   "source": []
  },
  {
   "cell_type": "code",
   "execution_count": null,
   "metadata": {},
   "outputs": [],
   "source": []
  },
  {
   "cell_type": "markdown",
   "metadata": {},
   "source": [
    "#### Lasso"
   ]
  },
  {
   "cell_type": "code",
   "execution_count": 107,
   "metadata": {},
   "outputs": [],
   "source": [
    "X = df.drop(['log_per_fund'], axis=1)\n",
    "y = df['log_per_fund']"
   ]
  },
  {
   "cell_type": "code",
   "execution_count": 109,
   "metadata": {},
   "outputs": [],
   "source": [
    "#Split the data 60 - 20 - 20 train/val/test\n",
    "\n",
    "X_train_val, X_test, y_train_val, y_test = train_test_split(X, y, test_size=0.2,random_state=42)\n",
    "X_train, X_val, y_train, y_val = train_test_split(X_train_val, y_train_val, test_size=.25, random_state=43)"
   ]
  },
  {
   "cell_type": "code",
   "execution_count": null,
   "metadata": {},
   "outputs": [],
   "source": []
  },
  {
   "cell_type": "code",
   "execution_count": 120,
   "metadata": {},
   "outputs": [],
   "source": [
    "#Mean Absolute Error (MAE)\n",
    "def mae(y_true, y_pred):\n",
    "    return np.mean(np.abs(y_pred - y_true)) \n",
    "\n"
   ]
  },
  {
   "cell_type": "code",
   "execution_count": null,
   "metadata": {},
   "outputs": [],
   "source": []
  },
  {
   "cell_type": "code",
   "execution_count": 121,
   "metadata": {},
   "outputs": [],
   "source": [
    "alphalist = 10**(np.linspace(-2,2,200))\n",
    "err_vec_val = np.zeros(len(alphalist))\n",
    "err_vec_train = np.zeros(len(alphalist))\n",
    "\n",
    "for i,curr_alpha in enumerate(alphalist):\n",
    "\n",
    "    # note the use of a new sklearn utility: Pipeline to pack\n",
    "    # multiple modeling steps into one fitting process \n",
    "    steps = [('standardize', StandardScaler()), \n",
    "             ('lasso', Lasso(alpha = curr_alpha))]\n",
    "\n",
    "    pipe = Pipeline(steps)\n",
    "    pipe.fit(X_train.values, y_train)\n",
    "    \n",
    "    val_set_pred = pipe.predict(X_val.values)\n",
    "    err_vec_val[i] = mae(y_val, val_set_pred)"
   ]
  },
  {
   "cell_type": "code",
   "execution_count": 122,
   "metadata": {},
   "outputs": [
    {
     "name": "stdout",
     "output_type": "stream",
     "text": [
      "0.04481660986126055\n",
      "lambda: 0.01\n"
     ]
    },
    {
     "data": {
      "text/plain": [
       "[<matplotlib.lines.Line2D at 0x2326f129a88>]"
      ]
     },
     "execution_count": 122,
     "metadata": {},
     "output_type": "execute_result"
    },
    {
     "data": {
      "image/png": "[encoded data removed]",
      "text/plain": [
       "<Figure size 432x288 with 1 Axes>"
      ]
     },
     "metadata": {
      "needs_background": "light"
     },
     "output_type": "display_data"
    }
   ],
   "source": [
    "print(test_r2.max())\n",
    "print(f'lambda: {alphalist[test_r2.argmax()]}')\n",
    "plt.plot(test_r2)"
   ]
  },
  {
   "cell_type": "code",
   "execution_count": 123,
   "metadata": {},
   "outputs": [
    {
     "data": {
      "text/plain": [
       "[('staff_pick', 0.3694778836154407),\n",
       " ('is_starrable', -0.07806394664428265),\n",
       " ('spotlight', 0.0),\n",
       " ('duration', 0.007938378819509612),\n",
       " ('log_goal', -0.12644292092352383),\n",
       " ('log_fb', 0.002089085082508055),\n",
       " ('log_created', 0.1087332302116851),\n",
       " ('log_backed', 0.010651251454155124)]"
      ]
     },
     "execution_count": 123,
     "metadata": {},
     "output_type": "execute_result"
    }
   ],
   "source": [
    "model = Lasso(alpha = alphalist[test_r2.argmax()])\n",
    "model.fit(X,y)\n",
    "list(zip(X.columns,model.coef_))"
   ]
  },
  {
   "cell_type": "code",
   "execution_count": null,
   "metadata": {},
   "outputs": [],
   "source": []
  },
  {
   "cell_type": "code",
   "execution_count": null,
   "metadata": {},
   "outputs": [],
   "source": []
  },
  {
   "cell_type": "code",
   "execution_count": null,
   "metadata": {},
   "outputs": [],
   "source": []
  },
  {
   "cell_type": "markdown",
   "metadata": {},
   "source": [
    "#### LassoCV"
   ]
  },
  {
   "cell_type": "code",
   "execution_count": 371,
   "metadata": {},
   "outputs": [],
   "source": [
    "X = df.drop(['log_per_fund'], axis=1)\n",
    "y = df['log_per_fund']"
   ]
  },
  {
   "cell_type": "code",
   "execution_count": 372,
   "metadata": {},
   "outputs": [],
   "source": [
    "X_train, X_test, y_train, y_test = train_test_split(X, y, test_size=.2) "
   ]
  },
  {
   "cell_type": "code",
   "execution_count": 373,
   "metadata": {},
   "outputs": [
    {
     "data": {
      "text/plain": [
       "StandardScaler(copy=True, with_mean=True, with_std=True)"
      ]
     },
     "execution_count": 373,
     "metadata": {},
     "output_type": "execute_result"
    }
   ],
   "source": [
    "## Scale the data as before\n",
    "std = StandardScaler()\n",
    "std.fit(X_train.values)"
   ]
  },
  {
   "cell_type": "code",
   "execution_count": 374,
   "metadata": {},
   "outputs": [],
   "source": [
    "## Scale the Predictors on both the train and test set\n",
    "X_tr = std.transform(X_train.values)\n",
    "X_te = std.transform(X_test.values)"
   ]
  },
  {
   "cell_type": "code",
   "execution_count": 375,
   "metadata": {},
   "outputs": [
    {
     "data": {
      "text/plain": [
       "LassoCV(alphas=array([1.00000000e-02, 1.04737090e-02, 1.09698580e-02, 1.14895100e-02,\n",
       "       1.20337784e-02, 1.26038293e-02, 1.32008840e-02, 1.38262217e-02,\n",
       "       1.44811823e-02, 1.51671689e-02, 1.58856513e-02, 1.66381689e-02,\n",
       "       1.74263339e-02, 1.82518349e-02, 1.91164408e-02, 2.00220037e-02,\n",
       "       2.09704640e-02, 2.19638537e-02, 2.30043012e-02, 2.40940356e-02,\n",
       "       2.52353917e-02, 2.64308149e-0...\n",
       "       6.01027678e+01, 6.29498899e+01, 6.59318827e+01, 6.90551352e+01,\n",
       "       7.23263390e+01, 7.57525026e+01, 7.93409667e+01, 8.30994195e+01,\n",
       "       8.70359136e+01, 9.11588830e+01, 9.54771611e+01, 1.00000000e+02]),\n",
       "        copy_X=True, cv=5, eps=0.001, fit_intercept=True, max_iter=1000,\n",
       "        n_alphas=100, n_jobs=None, normalize=False, positive=False,\n",
       "        precompute='auto', random_state=None, selection='cyclic', tol=0.0001,\n",
       "        verbose=False)"
      ]
     },
     "execution_count": 375,
     "metadata": {},
     "output_type": "execute_result"
    }
   ],
   "source": [
    "# Run the cross validation, find the best alpha, refit the model on all the data with that alpha\n",
    "\n",
    "alphavec = 10**np.linspace(-2,2,200)\n",
    "\n",
    "lasso_model = LassoCV(alphas = alphavec, cv=5)\n",
    "lasso_model.fit(X_tr, y_train)"
   ]
  },
  {
   "cell_type": "code",
   "execution_count": 376,
   "metadata": {},
   "outputs": [
    {
     "data": {
      "text/plain": [
       "0.01"
      ]
     },
     "execution_count": 376,
     "metadata": {},
     "output_type": "execute_result"
    }
   ],
   "source": [
    "# This is the best alpha value it found - not far from the value\n",
    "# selected using simple validation\n",
    "lasso_model.alpha_"
   ]
  },
  {
   "cell_type": "code",
   "execution_count": 377,
   "metadata": {},
   "outputs": [
    {
     "data": {
      "text/plain": [
       "[('staff_pick', 0.16582569915319598),\n",
       " ('is_starrable', -0.04228751160254512),\n",
       " ('spotlight', -0.0),\n",
       " ('duration', 0.0906977337594604),\n",
       " ('log_goal', -0.19069281377496278),\n",
       " ('log_fb', 0.008838396372956693),\n",
       " ('log_created', 0.09360667530079582),\n",
       " ('log_backed', 0.0)]"
      ]
     },
     "execution_count": 377,
     "metadata": {},
     "output_type": "execute_result"
    }
   ],
   "source": [
    "# These are the (standardized) coefficients found\n",
    "# when it refit using that best alpha\n",
    "list(zip(X_train.columns, lasso_model.coef_))"
   ]
  },
  {
   "cell_type": "code",
   "execution_count": 378,
   "metadata": {},
   "outputs": [],
   "source": [
    "# Make predictions on the test set using the new model\n",
    "test_set_pred = lasso_model.predict(X_te)"
   ]
  },
  {
   "cell_type": "code",
   "execution_count": 379,
   "metadata": {},
   "outputs": [
    {
     "data": {
      "text/plain": [
       "0.7831647497109753"
      ]
     },
     "execution_count": 379,
     "metadata": {},
     "output_type": "execute_result"
    }
   ],
   "source": [
    "# Find the MAE and R^2 on the test set using this model\n",
    "mae(y_test, test_set_pred)"
   ]
  },
  {
   "cell_type": "code",
   "execution_count": 380,
   "metadata": {},
   "outputs": [
    {
     "data": {
      "text/plain": [
       "0.9866378260003624"
      ]
     },
     "execution_count": 380,
     "metadata": {},
     "output_type": "execute_result"
    }
   ],
   "source": [
    "lasso_CV_rmse = np.sqrt(mean_squared_error(y_test, test_set_pred))\n",
    "lasso_CV_rmse"
   ]
  },
  {
   "cell_type": "code",
   "execution_count": 381,
   "metadata": {},
   "outputs": [
    {
     "data": {
      "text/plain": [
       "0.06774954561810365"
      ]
     },
     "execution_count": 381,
     "metadata": {},
     "output_type": "execute_result"
    }
   ],
   "source": [
    "lasso_CV_r2 = r2_score(y_test, test_set_pred)\n",
    "lasso_CV_r2"
   ]
  },
  {
   "cell_type": "markdown",
   "metadata": {},
   "source": [
    "Sooo.... I'm not actually sure how to evaulate LassoCV compared to simple OLS and Ridge since LassoCV does cross validation on its own. I need to look into this further. \n",
    "I also completely forgot about the LARS figure that one could generate. I'd like to see how that compares with what I got from removing features using the p-value from statsmodels below."
   ]
  },
  {
   "cell_type": "code",
   "execution_count": null,
   "metadata": {},
   "outputs": [],
   "source": []
  },
  {
   "cell_type": "markdown",
   "metadata": {},
   "source": [
    "As my ridge and OLS regressions seemed to be similar, I decided to use simple OLS and statsmodel with p-values to remove features one by one when using all 7 features."
   ]
  },
  {
   "cell_type": "code",
   "execution_count": 165,
   "metadata": {},
   "outputs": [],
   "source": [
    "X = df.drop(['log_per_fund'], axis=1)\n",
    "y = df['log_per_fund']"
   ]
  },
  {
   "cell_type": "code",
   "execution_count": 166,
   "metadata": {
    "scrolled": true
   },
   "outputs": [
    {
     "data": {
      "text/html": [
       "<table class=\"simpletable\">\n",
       "<caption>OLS Regression Results</caption>\n",
       "<tr>\n",
       "  <th>Dep. Variable:</th>      <td>log_per_fund</td>   <th>  R-squared:         </th> <td>   0.068</td>\n",
       "</tr>\n",
       "<tr>\n",
       "  <th>Model:</th>                   <td>OLS</td>       <th>  Adj. R-squared:    </th> <td>   0.061</td>\n",
       "</tr>\n",
       "<tr>\n",
       "  <th>Method:</th>             <td>Least Squares</td>  <th>  F-statistic:       </th> <td>   9.320</td>\n",
       "</tr>\n",
       "<tr>\n",
       "  <th>Date:</th>             <td>Fri, 17 Apr 2020</td> <th>  Prob (F-statistic):</th> <td>3.56e-11</td>\n",
       "</tr>\n",
       "<tr>\n",
       "  <th>Time:</th>                 <td>01:17:20</td>     <th>  Log-Likelihood:    </th> <td> -1258.2</td>\n",
       "</tr>\n",
       "<tr>\n",
       "  <th>No. Observations:</th>      <td>   900</td>      <th>  AIC:               </th> <td>   2532.</td>\n",
       "</tr>\n",
       "<tr>\n",
       "  <th>Df Residuals:</th>          <td>   892</td>      <th>  BIC:               </th> <td>   2571.</td>\n",
       "</tr>\n",
       "<tr>\n",
       "  <th>Df Model:</th>              <td>     7</td>      <th>                     </th>     <td> </td>   \n",
       "</tr>\n",
       "<tr>\n",
       "  <th>Covariance Type:</th>      <td>nonrobust</td>    <th>                     </th>     <td> </td>   \n",
       "</tr>\n",
       "</table>\n",
       "<table class=\"simpletable\">\n",
       "<tr>\n",
       "           <td></td>             <th>coef</th>     <th>std err</th>      <th>t</th>      <th>P>|t|</th>  <th>[0.025</th>    <th>0.975]</th>  \n",
       "</tr>\n",
       "<tr>\n",
       "  <th>Intercept</th>          <td>    6.5048</td> <td>    0.197</td> <td>   33.085</td> <td> 0.000</td> <td>    6.119</td> <td>    6.891</td>\n",
       "</tr>\n",
       "<tr>\n",
       "  <th>spotlight[T.True]</th>  <td>    0.1180</td> <td>    0.102</td> <td>    1.157</td> <td> 0.248</td> <td>   -0.082</td> <td>    0.318</td>\n",
       "</tr>\n",
       "<tr>\n",
       "  <th>staff_pick[T.True]</th> <td>    0.4900</td> <td>    0.112</td> <td>    4.387</td> <td> 0.000</td> <td>    0.271</td> <td>    0.709</td>\n",
       "</tr>\n",
       "<tr>\n",
       "  <th>log_goal</th>           <td>   -0.1354</td> <td>    0.020</td> <td>   -6.609</td> <td> 0.000</td> <td>   -0.176</td> <td>   -0.095</td>\n",
       "</tr>\n",
       "<tr>\n",
       "  <th>log_created</th>        <td>    0.1208</td> <td>    0.032</td> <td>    3.815</td> <td> 0.000</td> <td>    0.059</td> <td>    0.183</td>\n",
       "</tr>\n",
       "<tr>\n",
       "  <th>log_fb</th>             <td>    0.0013</td> <td>    0.011</td> <td>    0.114</td> <td> 0.909</td> <td>   -0.020</td> <td>    0.023</td>\n",
       "</tr>\n",
       "<tr>\n",
       "  <th>duration</th>           <td>    0.0094</td> <td>    0.004</td> <td>    2.420</td> <td> 0.016</td> <td>    0.002</td> <td>    0.017</td>\n",
       "</tr>\n",
       "<tr>\n",
       "  <th>log_backed</th>         <td>    0.0112</td> <td>    0.022</td> <td>    0.504</td> <td> 0.615</td> <td>   -0.032</td> <td>    0.055</td>\n",
       "</tr>\n",
       "</table>\n",
       "<table class=\"simpletable\">\n",
       "<tr>\n",
       "  <th>Omnibus:</th>       <td>109.936</td> <th>  Durbin-Watson:     </th> <td>   1.961</td>\n",
       "</tr>\n",
       "<tr>\n",
       "  <th>Prob(Omnibus):</th> <td> 0.000</td>  <th>  Jarque-Bera (JB):  </th> <td> 155.589</td>\n",
       "</tr>\n",
       "<tr>\n",
       "  <th>Skew:</th>          <td> 0.892</td>  <th>  Prob(JB):          </th> <td>1.64e-34</td>\n",
       "</tr>\n",
       "<tr>\n",
       "  <th>Kurtosis:</th>      <td> 3.984</td>  <th>  Cond. No.          </th> <td>    162.</td>\n",
       "</tr>\n",
       "</table><br/><br/>Warnings:<br/>[1] Standard Errors assume that the covariance matrix of the errors is correctly specified."
      ],
      "text/plain": [
       "<class 'statsmodels.iolib.summary.Summary'>\n",
       "\"\"\"\n",
       "                            OLS Regression Results                            \n",
       "==============================================================================\n",
       "Dep. Variable:           log_per_fund   R-squared:                       0.068\n",
       "Model:                            OLS   Adj. R-squared:                  0.061\n",
       "Method:                 Least Squares   F-statistic:                     9.320\n",
       "Date:                Fri, 17 Apr 2020   Prob (F-statistic):           3.56e-11\n",
       "Time:                        01:17:20   Log-Likelihood:                -1258.2\n",
       "No. Observations:                 900   AIC:                             2532.\n",
       "Df Residuals:                     892   BIC:                             2571.\n",
       "Df Model:                           7                                         \n",
       "Covariance Type:            nonrobust                                         \n",
       "======================================================================================\n",
       "                         coef    std err          t      P>|t|      [0.025      0.975]\n",
       "--------------------------------------------------------------------------------------\n",
       "Intercept              6.5048      0.197     33.085      0.000       6.119       6.891\n",
       "spotlight[T.True]      0.1180      0.102      1.157      0.248      -0.082       0.318\n",
       "staff_pick[T.True]     0.4900      0.112      4.387      0.000       0.271       0.709\n",
       "log_goal              -0.1354      0.020     -6.609      0.000      -0.176      -0.095\n",
       "log_created            0.1208      0.032      3.815      0.000       0.059       0.183\n",
       "log_fb                 0.0013      0.011      0.114      0.909      -0.020       0.023\n",
       "duration               0.0094      0.004      2.420      0.016       0.002       0.017\n",
       "log_backed             0.0112      0.022      0.504      0.615      -0.032       0.055\n",
       "==============================================================================\n",
       "Omnibus:                      109.936   Durbin-Watson:                   1.961\n",
       "Prob(Omnibus):                  0.000   Jarque-Bera (JB):              155.589\n",
       "Skew:                           0.892   Prob(JB):                     1.64e-34\n",
       "Kurtosis:                       3.984   Cond. No.                         162.\n",
       "==============================================================================\n",
       "\n",
       "Warnings:\n",
       "[1] Standard Errors assume that the covariance matrix of the errors is correctly specified.\n",
       "\"\"\""
      ]
     },
     "execution_count": 166,
     "metadata": {},
     "output_type": "execute_result"
    }
   ],
   "source": [
    "y_stats, X_stats = patsy.dmatrices('log_per_fund ~ spotlight + staff_pick + log_goal + log_created + log_fb + duration + log_backed', data = df, return_type=\"dataframe\")\n",
    "model = sm.OLS(y_stats, X_stats)\n",
    "fit = model.fit()\n",
    "fit.summary()"
   ]
  },
  {
   "cell_type": "code",
   "execution_count": 167,
   "metadata": {},
   "outputs": [
    {
     "data": {
      "text/html": [
       "<table class=\"simpletable\">\n",
       "<caption>OLS Regression Results</caption>\n",
       "<tr>\n",
       "  <th>Dep. Variable:</th>      <td>log_per_fund</td>   <th>  R-squared:         </th> <td>   0.068</td>\n",
       "</tr>\n",
       "<tr>\n",
       "  <th>Model:</th>                   <td>OLS</td>       <th>  Adj. R-squared:    </th> <td>   0.062</td>\n",
       "</tr>\n",
       "<tr>\n",
       "  <th>Method:</th>             <td>Least Squares</td>  <th>  F-statistic:       </th> <td>   10.88</td>\n",
       "</tr>\n",
       "<tr>\n",
       "  <th>Date:</th>             <td>Fri, 17 Apr 2020</td> <th>  Prob (F-statistic):</th> <td>1.02e-11</td>\n",
       "</tr>\n",
       "<tr>\n",
       "  <th>Time:</th>                 <td>01:17:57</td>     <th>  Log-Likelihood:    </th> <td> -1258.2</td>\n",
       "</tr>\n",
       "<tr>\n",
       "  <th>No. Observations:</th>      <td>   900</td>      <th>  AIC:               </th> <td>   2530.</td>\n",
       "</tr>\n",
       "<tr>\n",
       "  <th>Df Residuals:</th>          <td>   893</td>      <th>  BIC:               </th> <td>   2564.</td>\n",
       "</tr>\n",
       "<tr>\n",
       "  <th>Df Model:</th>              <td>     6</td>      <th>                     </th>     <td> </td>   \n",
       "</tr>\n",
       "<tr>\n",
       "  <th>Covariance Type:</th>      <td>nonrobust</td>    <th>                     </th>     <td> </td>   \n",
       "</tr>\n",
       "</table>\n",
       "<table class=\"simpletable\">\n",
       "<tr>\n",
       "           <td></td>             <th>coef</th>     <th>std err</th>      <th>t</th>      <th>P>|t|</th>  <th>[0.025</th>    <th>0.975]</th>  \n",
       "</tr>\n",
       "<tr>\n",
       "  <th>Intercept</th>          <td>    6.5051</td> <td>    0.196</td> <td>   33.109</td> <td> 0.000</td> <td>    6.120</td> <td>    6.891</td>\n",
       "</tr>\n",
       "<tr>\n",
       "  <th>spotlight[T.True]</th>  <td>    0.1184</td> <td>    0.102</td> <td>    1.163</td> <td> 0.245</td> <td>   -0.081</td> <td>    0.318</td>\n",
       "</tr>\n",
       "<tr>\n",
       "  <th>staff_pick[T.True]</th> <td>    0.4905</td> <td>    0.112</td> <td>    4.398</td> <td> 0.000</td> <td>    0.272</td> <td>    0.709</td>\n",
       "</tr>\n",
       "<tr>\n",
       "  <th>log_goal</th>           <td>   -0.1355</td> <td>    0.020</td> <td>   -6.621</td> <td> 0.000</td> <td>   -0.176</td> <td>   -0.095</td>\n",
       "</tr>\n",
       "<tr>\n",
       "  <th>log_created</th>        <td>    0.1213</td> <td>    0.031</td> <td>    3.877</td> <td> 0.000</td> <td>    0.060</td> <td>    0.183</td>\n",
       "</tr>\n",
       "<tr>\n",
       "  <th>duration</th>           <td>    0.0095</td> <td>    0.004</td> <td>    2.434</td> <td> 0.015</td> <td>    0.002</td> <td>    0.017</td>\n",
       "</tr>\n",
       "<tr>\n",
       "  <th>log_backed</th>         <td>    0.0118</td> <td>    0.021</td> <td>    0.550</td> <td> 0.582</td> <td>   -0.030</td> <td>    0.054</td>\n",
       "</tr>\n",
       "</table>\n",
       "<table class=\"simpletable\">\n",
       "<tr>\n",
       "  <th>Omnibus:</th>       <td>109.985</td> <th>  Durbin-Watson:     </th> <td>   1.960</td>\n",
       "</tr>\n",
       "<tr>\n",
       "  <th>Prob(Omnibus):</th> <td> 0.000</td>  <th>  Jarque-Bera (JB):  </th> <td> 155.682</td>\n",
       "</tr>\n",
       "<tr>\n",
       "  <th>Skew:</th>          <td> 0.892</td>  <th>  Prob(JB):          </th> <td>1.56e-34</td>\n",
       "</tr>\n",
       "<tr>\n",
       "  <th>Kurtosis:</th>      <td> 3.985</td>  <th>  Cond. No.          </th> <td>    161.</td>\n",
       "</tr>\n",
       "</table><br/><br/>Warnings:<br/>[1] Standard Errors assume that the covariance matrix of the errors is correctly specified."
      ],
      "text/plain": [
       "<class 'statsmodels.iolib.summary.Summary'>\n",
       "\"\"\"\n",
       "                            OLS Regression Results                            \n",
       "==============================================================================\n",
       "Dep. Variable:           log_per_fund   R-squared:                       0.068\n",
       "Model:                            OLS   Adj. R-squared:                  0.062\n",
       "Method:                 Least Squares   F-statistic:                     10.88\n",
       "Date:                Fri, 17 Apr 2020   Prob (F-statistic):           1.02e-11\n",
       "Time:                        01:17:57   Log-Likelihood:                -1258.2\n",
       "No. Observations:                 900   AIC:                             2530.\n",
       "Df Residuals:                     893   BIC:                             2564.\n",
       "Df Model:                           6                                         \n",
       "Covariance Type:            nonrobust                                         \n",
       "======================================================================================\n",
       "                         coef    std err          t      P>|t|      [0.025      0.975]\n",
       "--------------------------------------------------------------------------------------\n",
       "Intercept              6.5051      0.196     33.109      0.000       6.120       6.891\n",
       "spotlight[T.True]      0.1184      0.102      1.163      0.245      -0.081       0.318\n",
       "staff_pick[T.True]     0.4905      0.112      4.398      0.000       0.272       0.709\n",
       "log_goal              -0.1355      0.020     -6.621      0.000      -0.176      -0.095\n",
       "log_created            0.1213      0.031      3.877      0.000       0.060       0.183\n",
       "duration               0.0095      0.004      2.434      0.015       0.002       0.017\n",
       "log_backed             0.0118      0.021      0.550      0.582      -0.030       0.054\n",
       "==============================================================================\n",
       "Omnibus:                      109.985   Durbin-Watson:                   1.960\n",
       "Prob(Omnibus):                  0.000   Jarque-Bera (JB):              155.682\n",
       "Skew:                           0.892   Prob(JB):                     1.56e-34\n",
       "Kurtosis:                       3.985   Cond. No.                         161.\n",
       "==============================================================================\n",
       "\n",
       "Warnings:\n",
       "[1] Standard Errors assume that the covariance matrix of the errors is correctly specified.\n",
       "\"\"\""
      ]
     },
     "execution_count": 167,
     "metadata": {},
     "output_type": "execute_result"
    }
   ],
   "source": [
    "y_stats, X_stats = patsy.dmatrices('log_per_fund ~ spotlight + staff_pick + log_goal + log_created + duration + log_backed', data = df, return_type=\"dataframe\")\n",
    "model = sm.OLS(y_stats, X_stats)\n",
    "fit = model.fit()\n",
    "fit.summary()"
   ]
  },
  {
   "cell_type": "code",
   "execution_count": 168,
   "metadata": {},
   "outputs": [
    {
     "data": {
      "text/html": [
       "<table class=\"simpletable\">\n",
       "<caption>OLS Regression Results</caption>\n",
       "<tr>\n",
       "  <th>Dep. Variable:</th>      <td>log_per_fund</td>   <th>  R-squared:         </th> <td>   0.068</td>\n",
       "</tr>\n",
       "<tr>\n",
       "  <th>Model:</th>                   <td>OLS</td>       <th>  Adj. R-squared:    </th> <td>   0.063</td>\n",
       "</tr>\n",
       "<tr>\n",
       "  <th>Method:</th>             <td>Least Squares</td>  <th>  F-statistic:       </th> <td>   13.01</td>\n",
       "</tr>\n",
       "<tr>\n",
       "  <th>Date:</th>             <td>Fri, 17 Apr 2020</td> <th>  Prob (F-statistic):</th> <td>3.06e-12</td>\n",
       "</tr>\n",
       "<tr>\n",
       "  <th>Time:</th>                 <td>01:19:02</td>     <th>  Log-Likelihood:    </th> <td> -1258.4</td>\n",
       "</tr>\n",
       "<tr>\n",
       "  <th>No. Observations:</th>      <td>   900</td>      <th>  AIC:               </th> <td>   2529.</td>\n",
       "</tr>\n",
       "<tr>\n",
       "  <th>Df Residuals:</th>          <td>   894</td>      <th>  BIC:               </th> <td>   2558.</td>\n",
       "</tr>\n",
       "<tr>\n",
       "  <th>Df Model:</th>              <td>     5</td>      <th>                     </th>     <td> </td>   \n",
       "</tr>\n",
       "<tr>\n",
       "  <th>Covariance Type:</th>      <td>nonrobust</td>    <th>                     </th>     <td> </td>   \n",
       "</tr>\n",
       "</table>\n",
       "<table class=\"simpletable\">\n",
       "<tr>\n",
       "           <td></td>             <th>coef</th>     <th>std err</th>      <th>t</th>      <th>P>|t|</th>  <th>[0.025</th>    <th>0.975]</th>  \n",
       "</tr>\n",
       "<tr>\n",
       "  <th>Intercept</th>          <td>    6.5272</td> <td>    0.192</td> <td>   33.950</td> <td> 0.000</td> <td>    6.150</td> <td>    6.905</td>\n",
       "</tr>\n",
       "<tr>\n",
       "  <th>spotlight[T.True]</th>  <td>    0.1221</td> <td>    0.102</td> <td>    1.202</td> <td> 0.230</td> <td>   -0.077</td> <td>    0.321</td>\n",
       "</tr>\n",
       "<tr>\n",
       "  <th>staff_pick[T.True]</th> <td>    0.4969</td> <td>    0.111</td> <td>    4.481</td> <td> 0.000</td> <td>    0.279</td> <td>    0.714</td>\n",
       "</tr>\n",
       "<tr>\n",
       "  <th>log_goal</th>           <td>   -0.1341</td> <td>    0.020</td> <td>   -6.607</td> <td> 0.000</td> <td>   -0.174</td> <td>   -0.094</td>\n",
       "</tr>\n",
       "<tr>\n",
       "  <th>log_created</th>        <td>    0.1258</td> <td>    0.030</td> <td>    4.160</td> <td> 0.000</td> <td>    0.066</td> <td>    0.185</td>\n",
       "</tr>\n",
       "<tr>\n",
       "  <th>duration</th>           <td>    0.0091</td> <td>    0.004</td> <td>    2.374</td> <td> 0.018</td> <td>    0.002</td> <td>    0.017</td>\n",
       "</tr>\n",
       "</table>\n",
       "<table class=\"simpletable\">\n",
       "<tr>\n",
       "  <th>Omnibus:</th>       <td>109.489</td> <th>  Durbin-Watson:     </th> <td>   1.959</td>\n",
       "</tr>\n",
       "<tr>\n",
       "  <th>Prob(Omnibus):</th> <td> 0.000</td>  <th>  Jarque-Bera (JB):  </th> <td> 154.901</td>\n",
       "</tr>\n",
       "<tr>\n",
       "  <th>Skew:</th>          <td> 0.889</td>  <th>  Prob(JB):          </th> <td>2.31e-34</td>\n",
       "</tr>\n",
       "<tr>\n",
       "  <th>Kurtosis:</th>      <td> 3.986</td>  <th>  Cond. No.          </th> <td>    158.</td>\n",
       "</tr>\n",
       "</table><br/><br/>Warnings:<br/>[1] Standard Errors assume that the covariance matrix of the errors is correctly specified."
      ],
      "text/plain": [
       "<class 'statsmodels.iolib.summary.Summary'>\n",
       "\"\"\"\n",
       "                            OLS Regression Results                            \n",
       "==============================================================================\n",
       "Dep. Variable:           log_per_fund   R-squared:                       0.068\n",
       "Model:                            OLS   Adj. R-squared:                  0.063\n",
       "Method:                 Least Squares   F-statistic:                     13.01\n",
       "Date:                Fri, 17 Apr 2020   Prob (F-statistic):           3.06e-12\n",
       "Time:                        01:19:02   Log-Likelihood:                -1258.4\n",
       "No. Observations:                 900   AIC:                             2529.\n",
       "Df Residuals:                     894   BIC:                             2558.\n",
       "Df Model:                           5                                         \n",
       "Covariance Type:            nonrobust                                         \n",
       "======================================================================================\n",
       "                         coef    std err          t      P>|t|      [0.025      0.975]\n",
       "--------------------------------------------------------------------------------------\n",
       "Intercept              6.5272      0.192     33.950      0.000       6.150       6.905\n",
       "spotlight[T.True]      0.1221      0.102      1.202      0.230      -0.077       0.321\n",
       "staff_pick[T.True]     0.4969      0.111      4.481      0.000       0.279       0.714\n",
       "log_goal              -0.1341      0.020     -6.607      0.000      -0.174      -0.094\n",
       "log_created            0.1258      0.030      4.160      0.000       0.066       0.185\n",
       "duration               0.0091      0.004      2.374      0.018       0.002       0.017\n",
       "==============================================================================\n",
       "Omnibus:                      109.489   Durbin-Watson:                   1.959\n",
       "Prob(Omnibus):                  0.000   Jarque-Bera (JB):              154.901\n",
       "Skew:                           0.889   Prob(JB):                     2.31e-34\n",
       "Kurtosis:                       3.986   Cond. No.                         158.\n",
       "==============================================================================\n",
       "\n",
       "Warnings:\n",
       "[1] Standard Errors assume that the covariance matrix of the errors is correctly specified.\n",
       "\"\"\""
      ]
     },
     "execution_count": 168,
     "metadata": {},
     "output_type": "execute_result"
    }
   ],
   "source": [
    "y_stats, X_stats = patsy.dmatrices('log_per_fund ~ spotlight + staff_pick + log_goal + log_created + duration', data = df, return_type=\"dataframe\")\n",
    "model = sm.OLS(y_stats, X_stats)\n",
    "fit = model.fit()\n",
    "fit.summary()"
   ]
  },
  {
   "cell_type": "code",
   "execution_count": 169,
   "metadata": {},
   "outputs": [
    {
     "data": {
      "text/html": [
       "<table class=\"simpletable\">\n",
       "<caption>OLS Regression Results</caption>\n",
       "<tr>\n",
       "  <th>Dep. Variable:</th>      <td>log_per_fund</td>   <th>  R-squared:         </th> <td>   0.066</td>\n",
       "</tr>\n",
       "<tr>\n",
       "  <th>Model:</th>                   <td>OLS</td>       <th>  Adj. R-squared:    </th> <td>   0.062</td>\n",
       "</tr>\n",
       "<tr>\n",
       "  <th>Method:</th>             <td>Least Squares</td>  <th>  F-statistic:       </th> <td>   15.89</td>\n",
       "</tr>\n",
       "<tr>\n",
       "  <th>Date:</th>             <td>Fri, 17 Apr 2020</td> <th>  Prob (F-statistic):</th> <td>1.42e-12</td>\n",
       "</tr>\n",
       "<tr>\n",
       "  <th>Time:</th>                 <td>01:19:46</td>     <th>  Log-Likelihood:    </th> <td> -1259.1</td>\n",
       "</tr>\n",
       "<tr>\n",
       "  <th>No. Observations:</th>      <td>   900</td>      <th>  AIC:               </th> <td>   2528.</td>\n",
       "</tr>\n",
       "<tr>\n",
       "  <th>Df Residuals:</th>          <td>   895</td>      <th>  BIC:               </th> <td>   2552.</td>\n",
       "</tr>\n",
       "<tr>\n",
       "  <th>Df Model:</th>              <td>     4</td>      <th>                     </th>     <td> </td>   \n",
       "</tr>\n",
       "<tr>\n",
       "  <th>Covariance Type:</th>      <td>nonrobust</td>    <th>                     </th>     <td> </td>   \n",
       "</tr>\n",
       "</table>\n",
       "<table class=\"simpletable\">\n",
       "<tr>\n",
       "           <td></td>             <th>coef</th>     <th>std err</th>      <th>t</th>      <th>P>|t|</th>  <th>[0.025</th>    <th>0.975]</th>  \n",
       "</tr>\n",
       "<tr>\n",
       "  <th>Intercept</th>          <td>    6.6661</td> <td>    0.154</td> <td>   43.374</td> <td> 0.000</td> <td>    6.364</td> <td>    6.968</td>\n",
       "</tr>\n",
       "<tr>\n",
       "  <th>staff_pick[T.True]</th> <td>    0.4962</td> <td>    0.111</td> <td>    4.474</td> <td> 0.000</td> <td>    0.279</td> <td>    0.714</td>\n",
       "</tr>\n",
       "<tr>\n",
       "  <th>log_goal</th>           <td>   -0.1336</td> <td>    0.020</td> <td>   -6.585</td> <td> 0.000</td> <td>   -0.173</td> <td>   -0.094</td>\n",
       "</tr>\n",
       "<tr>\n",
       "  <th>log_created</th>        <td>    0.1227</td> <td>    0.030</td> <td>    4.073</td> <td> 0.000</td> <td>    0.064</td> <td>    0.182</td>\n",
       "</tr>\n",
       "<tr>\n",
       "  <th>duration</th>           <td>    0.0076</td> <td>    0.004</td> <td>    2.098</td> <td> 0.036</td> <td>    0.000</td> <td>    0.015</td>\n",
       "</tr>\n",
       "</table>\n",
       "<table class=\"simpletable\">\n",
       "<tr>\n",
       "  <th>Omnibus:</th>       <td>109.819</td> <th>  Durbin-Watson:     </th> <td>   1.955</td>\n",
       "</tr>\n",
       "<tr>\n",
       "  <th>Prob(Omnibus):</th> <td> 0.000</td>  <th>  Jarque-Bera (JB):  </th> <td> 155.248</td>\n",
       "</tr>\n",
       "<tr>\n",
       "  <th>Skew:</th>          <td> 0.892</td>  <th>  Prob(JB):          </th> <td>1.94e-34</td>\n",
       "</tr>\n",
       "<tr>\n",
       "  <th>Kurtosis:</th>      <td> 3.980</td>  <th>  Cond. No.          </th> <td>    120.</td>\n",
       "</tr>\n",
       "</table><br/><br/>Warnings:<br/>[1] Standard Errors assume that the covariance matrix of the errors is correctly specified."
      ],
      "text/plain": [
       "<class 'statsmodels.iolib.summary.Summary'>\n",
       "\"\"\"\n",
       "                            OLS Regression Results                            \n",
       "==============================================================================\n",
       "Dep. Variable:           log_per_fund   R-squared:                       0.066\n",
       "Model:                            OLS   Adj. R-squared:                  0.062\n",
       "Method:                 Least Squares   F-statistic:                     15.89\n",
       "Date:                Fri, 17 Apr 2020   Prob (F-statistic):           1.42e-12\n",
       "Time:                        01:19:46   Log-Likelihood:                -1259.1\n",
       "No. Observations:                 900   AIC:                             2528.\n",
       "Df Residuals:                     895   BIC:                             2552.\n",
       "Df Model:                           4                                         \n",
       "Covariance Type:            nonrobust                                         \n",
       "======================================================================================\n",
       "                         coef    std err          t      P>|t|      [0.025      0.975]\n",
       "--------------------------------------------------------------------------------------\n",
       "Intercept              6.6661      0.154     43.374      0.000       6.364       6.968\n",
       "staff_pick[T.True]     0.4962      0.111      4.474      0.000       0.279       0.714\n",
       "log_goal              -0.1336      0.020     -6.585      0.000      -0.173      -0.094\n",
       "log_created            0.1227      0.030      4.073      0.000       0.064       0.182\n",
       "duration               0.0076      0.004      2.098      0.036       0.000       0.015\n",
       "==============================================================================\n",
       "Omnibus:                      109.819   Durbin-Watson:                   1.955\n",
       "Prob(Omnibus):                  0.000   Jarque-Bera (JB):              155.248\n",
       "Skew:                           0.892   Prob(JB):                     1.94e-34\n",
       "Kurtosis:                       3.980   Cond. No.                         120.\n",
       "==============================================================================\n",
       "\n",
       "Warnings:\n",
       "[1] Standard Errors assume that the covariance matrix of the errors is correctly specified.\n",
       "\"\"\""
      ]
     },
     "execution_count": 169,
     "metadata": {},
     "output_type": "execute_result"
    }
   ],
   "source": [
    "y_stats, X_stats = patsy.dmatrices('log_per_fund ~ staff_pick + log_goal + log_created + duration', data = df, return_type=\"dataframe\")\n",
    "model = sm.OLS(y_stats, X_stats)\n",
    "fit = model.fit()\n",
    "fit.summary()"
   ]
  },
  {
   "cell_type": "markdown",
   "metadata": {},
   "source": [
    "R^2_Adj dropped slightly when removing 'spotlight' since it had a relatively high p-value. It's probably worth the slight drop since the model was simplified. "
   ]
  },
  {
   "cell_type": "code",
   "execution_count": null,
   "metadata": {},
   "outputs": [],
   "source": []
  }
 ],
 "metadata": {
  "kernelspec": {
   "display_name": "Python [conda env:metis] *",
   "language": "python",
   "name": "conda-env-metis-py"
  },
  "language_info": {
   "codemirror_mode": {
    "name": "ipython",
    "version": 3
   },
   "file_extension": ".py",
   "mimetype": "text/x-python",
   "name": "python",
   "nbconvert_exporter": "python",
   "pygments_lexer": "ipython3",
   "version": "3.7.6"
  }
 },
 "nbformat": 4,
 "nbformat_minor": 4
}
